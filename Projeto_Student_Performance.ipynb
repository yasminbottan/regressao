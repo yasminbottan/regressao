{
  "nbformat": 4,
  "nbformat_minor": 0,
  "metadata": {
    "colab": {
      "provenance": [],
      "authorship_tag": "ABX9TyNOlA2Zxs4Jk+GYkXUX0g96",
      "include_colab_link": true
    },
    "kernelspec": {
      "name": "python3",
      "display_name": "Python 3"
    },
    "language_info": {
      "name": "python"
    }
  },
  "cells": [
    {
      "cell_type": "markdown",
      "metadata": {
        "id": "view-in-github",
        "colab_type": "text"
      },
      "source": [
        "<a href=\"https://colab.research.google.com/github/yasminbottan/regressao/blob/main/Projeto_Student_Performance.ipynb\" target=\"_parent\"><img src=\"https://colab.research.google.com/assets/colab-badge.svg\" alt=\"Open In Colab\"/></a>"
      ]
    },
    {
      "cell_type": "markdown",
      "source": [
        "# **STUDENT PERFORMANCE DATASET**"
      ],
      "metadata": {
        "id": "FYXlTOvxxsl2"
      }
    },
    {
      "cell_type": "markdown",
      "source": [
        "## **Resumo:**\n",
        "O Student Performance Dataset é um conjunto de dados projetado para examinar os fatores que influenciam o desempenho acadêmico dos alunos. O conjunto de dados consiste em 10.000 registros de alunos, com cada registro contendo informações sobre vários preditores e um índice de desempenho.\n",
        "\n",
        "## **Variáveis:**\n",
        "* Horas estudadas: o número total de horas gastas estudando por cada aluno.\n",
        "* Pontuações anteriores: as pontuações obtidas pelos alunos em testes anteriores.\n",
        "* Atividades extracurriculares: se o aluno participa de atividades extracurriculares (sim ou não).\n",
        "* Horas de sono: o número médio de horas de sono que o aluno teve por dia.\n",
        "* Testes de perguntas praticados: o número de testes de perguntas que o aluno praticou.\n",
        "\n",
        "## **Target:**\n",
        "* Índice de desempenho: uma medida do desempenho geral de cada aluno. O índice de desempenho representa o desempenho acadêmico do aluno e foi arredondado para o inteiro mais próximo. O índice varia de 10 a 100, com valores mais altos indicando melhor desempenho.\n",
        "\n",
        "## **Fonte:**\n",
        "https://www.kaggle.com/datasets/nikhil7280/student-performance-multiple-linear-regression?resource=download"
      ],
      "metadata": {
        "id": "F7kX6N51x6XZ"
      }
    },
    {
      "cell_type": "markdown",
      "source": [
        "# **BIBLIOTECAS, FONTES E BASE DE DADOS**"
      ],
      "metadata": {
        "id": "mnTkWOw7NQlZ"
      }
    },
    {
      "cell_type": "code",
      "source": [
        "# manipulação de dados\n",
        "import pandas as pd\n",
        "import numpy as np\n",
        "\n",
        "# visualização de dados\n",
        "import seaborn as sns\n",
        "import matplotlib.pyplot as plt\n",
        "import plotly.express as px\n",
        "import plotly.graph_objects as go\n",
        "\n",
        "from tabulate import tabulate\n",
        "\n",
        "# regressão linear\n",
        "from sklearn.model_selection import train_test_split\n",
        "from sklearn.impute import SimpleImputer\n",
        "from sklearn.linear_model import LinearRegression\n",
        "from sklearn.compose import ColumnTransformer\n",
        "from sklearn.preprocessing import StandardScaler\n",
        "from sklearn.pipeline import Pipeline\n",
        "\n",
        "# métricas de avaliação\n",
        "from sklearn.metrics import r2_score, mean_squared_error, mean_absolute_error, median_absolute_error, mean_absolute_percentage_error, max_error, mean_squared_log_error"
      ],
      "metadata": {
        "id": "i_cgLBjzV-L_"
      },
      "execution_count": null,
      "outputs": []
    },
    {
      "cell_type": "code",
      "source": [
        "# Carregar base de dados\n",
        "df = pd.read_csv('Student_Performance.csv', encoding='latin1', delimiter=',')"
      ],
      "metadata": {
        "id": "9kAfhu8_WE3J"
      },
      "execution_count": null,
      "outputs": []
    },
    {
      "cell_type": "markdown",
      "source": [
        "# **PREPARAÇÃO DA BASE**\n"
      ],
      "metadata": {
        "id": "FK1wm6Y1N7NW"
      }
    },
    {
      "cell_type": "code",
      "source": [
        "# Verificação das informações da tabela\n",
        "df.head()"
      ],
      "metadata": {
        "colab": {
          "base_uri": "https://localhost:8080/",
          "height": 206
        },
        "id": "-Qx6i7A3ENa_",
        "outputId": "cf908979-5eba-4834-d998-7748d2a328a1"
      },
      "execution_count": null,
      "outputs": [
        {
          "output_type": "execute_result",
          "data": {
            "text/plain": [
              "   Hours Studied  Previous Scores Extracurricular Activities  Sleep Hours  \\\n",
              "0              7               99                        Yes            9   \n",
              "1              4               82                         No            4   \n",
              "2              8               51                        Yes            7   \n",
              "3              5               52                        Yes            5   \n",
              "4              7               75                         No            8   \n",
              "\n",
              "   Sample Question Papers Practiced  Performance Index  \n",
              "0                                 1               91.0  \n",
              "1                                 2               65.0  \n",
              "2                                 2               45.0  \n",
              "3                                 2               36.0  \n",
              "4                                 5               66.0  "
            ],
            "text/html": [
              "\n",
              "  <div id=\"df-a7fa2c88-dfe7-4192-a3d6-086ad3b462f0\" class=\"colab-df-container\">\n",
              "    <div>\n",
              "<style scoped>\n",
              "    .dataframe tbody tr th:only-of-type {\n",
              "        vertical-align: middle;\n",
              "    }\n",
              "\n",
              "    .dataframe tbody tr th {\n",
              "        vertical-align: top;\n",
              "    }\n",
              "\n",
              "    .dataframe thead th {\n",
              "        text-align: right;\n",
              "    }\n",
              "</style>\n",
              "<table border=\"1\" class=\"dataframe\">\n",
              "  <thead>\n",
              "    <tr style=\"text-align: right;\">\n",
              "      <th></th>\n",
              "      <th>Hours Studied</th>\n",
              "      <th>Previous Scores</th>\n",
              "      <th>Extracurricular Activities</th>\n",
              "      <th>Sleep Hours</th>\n",
              "      <th>Sample Question Papers Practiced</th>\n",
              "      <th>Performance Index</th>\n",
              "    </tr>\n",
              "  </thead>\n",
              "  <tbody>\n",
              "    <tr>\n",
              "      <th>0</th>\n",
              "      <td>7</td>\n",
              "      <td>99</td>\n",
              "      <td>Yes</td>\n",
              "      <td>9</td>\n",
              "      <td>1</td>\n",
              "      <td>91.0</td>\n",
              "    </tr>\n",
              "    <tr>\n",
              "      <th>1</th>\n",
              "      <td>4</td>\n",
              "      <td>82</td>\n",
              "      <td>No</td>\n",
              "      <td>4</td>\n",
              "      <td>2</td>\n",
              "      <td>65.0</td>\n",
              "    </tr>\n",
              "    <tr>\n",
              "      <th>2</th>\n",
              "      <td>8</td>\n",
              "      <td>51</td>\n",
              "      <td>Yes</td>\n",
              "      <td>7</td>\n",
              "      <td>2</td>\n",
              "      <td>45.0</td>\n",
              "    </tr>\n",
              "    <tr>\n",
              "      <th>3</th>\n",
              "      <td>5</td>\n",
              "      <td>52</td>\n",
              "      <td>Yes</td>\n",
              "      <td>5</td>\n",
              "      <td>2</td>\n",
              "      <td>36.0</td>\n",
              "    </tr>\n",
              "    <tr>\n",
              "      <th>4</th>\n",
              "      <td>7</td>\n",
              "      <td>75</td>\n",
              "      <td>No</td>\n",
              "      <td>8</td>\n",
              "      <td>5</td>\n",
              "      <td>66.0</td>\n",
              "    </tr>\n",
              "  </tbody>\n",
              "</table>\n",
              "</div>\n",
              "    <div class=\"colab-df-buttons\">\n",
              "\n",
              "  <div class=\"colab-df-container\">\n",
              "    <button class=\"colab-df-convert\" onclick=\"convertToInteractive('df-a7fa2c88-dfe7-4192-a3d6-086ad3b462f0')\"\n",
              "            title=\"Convert this dataframe to an interactive table.\"\n",
              "            style=\"display:none;\">\n",
              "\n",
              "  <svg xmlns=\"http://www.w3.org/2000/svg\" height=\"24px\" viewBox=\"0 -960 960 960\">\n",
              "    <path d=\"M120-120v-720h720v720H120Zm60-500h600v-160H180v160Zm220 220h160v-160H400v160Zm0 220h160v-160H400v160ZM180-400h160v-160H180v160Zm440 0h160v-160H620v160ZM180-180h160v-160H180v160Zm440 0h160v-160H620v160Z\"/>\n",
              "  </svg>\n",
              "    </button>\n",
              "\n",
              "  <style>\n",
              "    .colab-df-container {\n",
              "      display:flex;\n",
              "      gap: 12px;\n",
              "    }\n",
              "\n",
              "    .colab-df-convert {\n",
              "      background-color: #E8F0FE;\n",
              "      border: none;\n",
              "      border-radius: 50%;\n",
              "      cursor: pointer;\n",
              "      display: none;\n",
              "      fill: #1967D2;\n",
              "      height: 32px;\n",
              "      padding: 0 0 0 0;\n",
              "      width: 32px;\n",
              "    }\n",
              "\n",
              "    .colab-df-convert:hover {\n",
              "      background-color: #E2EBFA;\n",
              "      box-shadow: 0px 1px 2px rgba(60, 64, 67, 0.3), 0px 1px 3px 1px rgba(60, 64, 67, 0.15);\n",
              "      fill: #174EA6;\n",
              "    }\n",
              "\n",
              "    .colab-df-buttons div {\n",
              "      margin-bottom: 4px;\n",
              "    }\n",
              "\n",
              "    [theme=dark] .colab-df-convert {\n",
              "      background-color: #3B4455;\n",
              "      fill: #D2E3FC;\n",
              "    }\n",
              "\n",
              "    [theme=dark] .colab-df-convert:hover {\n",
              "      background-color: #434B5C;\n",
              "      box-shadow: 0px 1px 3px 1px rgba(0, 0, 0, 0.15);\n",
              "      filter: drop-shadow(0px 1px 2px rgba(0, 0, 0, 0.3));\n",
              "      fill: #FFFFFF;\n",
              "    }\n",
              "  </style>\n",
              "\n",
              "    <script>\n",
              "      const buttonEl =\n",
              "        document.querySelector('#df-a7fa2c88-dfe7-4192-a3d6-086ad3b462f0 button.colab-df-convert');\n",
              "      buttonEl.style.display =\n",
              "        google.colab.kernel.accessAllowed ? 'block' : 'none';\n",
              "\n",
              "      async function convertToInteractive(key) {\n",
              "        const element = document.querySelector('#df-a7fa2c88-dfe7-4192-a3d6-086ad3b462f0');\n",
              "        const dataTable =\n",
              "          await google.colab.kernel.invokeFunction('convertToInteractive',\n",
              "                                                    [key], {});\n",
              "        if (!dataTable) return;\n",
              "\n",
              "        const docLinkHtml = 'Like what you see? Visit the ' +\n",
              "          '<a target=\"_blank\" href=https://colab.research.google.com/notebooks/data_table.ipynb>data table notebook</a>'\n",
              "          + ' to learn more about interactive tables.';\n",
              "        element.innerHTML = '';\n",
              "        dataTable['output_type'] = 'display_data';\n",
              "        await google.colab.output.renderOutput(dataTable, element);\n",
              "        const docLink = document.createElement('div');\n",
              "        docLink.innerHTML = docLinkHtml;\n",
              "        element.appendChild(docLink);\n",
              "      }\n",
              "    </script>\n",
              "  </div>\n",
              "\n",
              "\n",
              "<div id=\"df-8264e7c3-b1e5-49dd-8b63-9657ae25c0f6\">\n",
              "  <button class=\"colab-df-quickchart\" onclick=\"quickchart('df-8264e7c3-b1e5-49dd-8b63-9657ae25c0f6')\"\n",
              "            title=\"Suggest charts\"\n",
              "            style=\"display:none;\">\n",
              "\n",
              "<svg xmlns=\"http://www.w3.org/2000/svg\" height=\"24px\"viewBox=\"0 0 24 24\"\n",
              "     width=\"24px\">\n",
              "    <g>\n",
              "        <path d=\"M19 3H5c-1.1 0-2 .9-2 2v14c0 1.1.9 2 2 2h14c1.1 0 2-.9 2-2V5c0-1.1-.9-2-2-2zM9 17H7v-7h2v7zm4 0h-2V7h2v10zm4 0h-2v-4h2v4z\"/>\n",
              "    </g>\n",
              "</svg>\n",
              "  </button>\n",
              "\n",
              "<style>\n",
              "  .colab-df-quickchart {\n",
              "      --bg-color: #E8F0FE;\n",
              "      --fill-color: #1967D2;\n",
              "      --hover-bg-color: #E2EBFA;\n",
              "      --hover-fill-color: #174EA6;\n",
              "      --disabled-fill-color: #AAA;\n",
              "      --disabled-bg-color: #DDD;\n",
              "  }\n",
              "\n",
              "  [theme=dark] .colab-df-quickchart {\n",
              "      --bg-color: #3B4455;\n",
              "      --fill-color: #D2E3FC;\n",
              "      --hover-bg-color: #434B5C;\n",
              "      --hover-fill-color: #FFFFFF;\n",
              "      --disabled-bg-color: #3B4455;\n",
              "      --disabled-fill-color: #666;\n",
              "  }\n",
              "\n",
              "  .colab-df-quickchart {\n",
              "    background-color: var(--bg-color);\n",
              "    border: none;\n",
              "    border-radius: 50%;\n",
              "    cursor: pointer;\n",
              "    display: none;\n",
              "    fill: var(--fill-color);\n",
              "    height: 32px;\n",
              "    padding: 0;\n",
              "    width: 32px;\n",
              "  }\n",
              "\n",
              "  .colab-df-quickchart:hover {\n",
              "    background-color: var(--hover-bg-color);\n",
              "    box-shadow: 0 1px 2px rgba(60, 64, 67, 0.3), 0 1px 3px 1px rgba(60, 64, 67, 0.15);\n",
              "    fill: var(--button-hover-fill-color);\n",
              "  }\n",
              "\n",
              "  .colab-df-quickchart-complete:disabled,\n",
              "  .colab-df-quickchart-complete:disabled:hover {\n",
              "    background-color: var(--disabled-bg-color);\n",
              "    fill: var(--disabled-fill-color);\n",
              "    box-shadow: none;\n",
              "  }\n",
              "\n",
              "  .colab-df-spinner {\n",
              "    border: 2px solid var(--fill-color);\n",
              "    border-color: transparent;\n",
              "    border-bottom-color: var(--fill-color);\n",
              "    animation:\n",
              "      spin 1s steps(1) infinite;\n",
              "  }\n",
              "\n",
              "  @keyframes spin {\n",
              "    0% {\n",
              "      border-color: transparent;\n",
              "      border-bottom-color: var(--fill-color);\n",
              "      border-left-color: var(--fill-color);\n",
              "    }\n",
              "    20% {\n",
              "      border-color: transparent;\n",
              "      border-left-color: var(--fill-color);\n",
              "      border-top-color: var(--fill-color);\n",
              "    }\n",
              "    30% {\n",
              "      border-color: transparent;\n",
              "      border-left-color: var(--fill-color);\n",
              "      border-top-color: var(--fill-color);\n",
              "      border-right-color: var(--fill-color);\n",
              "    }\n",
              "    40% {\n",
              "      border-color: transparent;\n",
              "      border-right-color: var(--fill-color);\n",
              "      border-top-color: var(--fill-color);\n",
              "    }\n",
              "    60% {\n",
              "      border-color: transparent;\n",
              "      border-right-color: var(--fill-color);\n",
              "    }\n",
              "    80% {\n",
              "      border-color: transparent;\n",
              "      border-right-color: var(--fill-color);\n",
              "      border-bottom-color: var(--fill-color);\n",
              "    }\n",
              "    90% {\n",
              "      border-color: transparent;\n",
              "      border-bottom-color: var(--fill-color);\n",
              "    }\n",
              "  }\n",
              "</style>\n",
              "\n",
              "  <script>\n",
              "    async function quickchart(key) {\n",
              "      const quickchartButtonEl =\n",
              "        document.querySelector('#' + key + ' button');\n",
              "      quickchartButtonEl.disabled = true;  // To prevent multiple clicks.\n",
              "      quickchartButtonEl.classList.add('colab-df-spinner');\n",
              "      try {\n",
              "        const charts = await google.colab.kernel.invokeFunction(\n",
              "            'suggestCharts', [key], {});\n",
              "      } catch (error) {\n",
              "        console.error('Error during call to suggestCharts:', error);\n",
              "      }\n",
              "      quickchartButtonEl.classList.remove('colab-df-spinner');\n",
              "      quickchartButtonEl.classList.add('colab-df-quickchart-complete');\n",
              "    }\n",
              "    (() => {\n",
              "      let quickchartButtonEl =\n",
              "        document.querySelector('#df-8264e7c3-b1e5-49dd-8b63-9657ae25c0f6 button');\n",
              "      quickchartButtonEl.style.display =\n",
              "        google.colab.kernel.accessAllowed ? 'block' : 'none';\n",
              "    })();\n",
              "  </script>\n",
              "</div>\n",
              "\n",
              "    </div>\n",
              "  </div>\n"
            ],
            "application/vnd.google.colaboratory.intrinsic+json": {
              "type": "dataframe",
              "variable_name": "df",
              "summary": "{\n  \"name\": \"df\",\n  \"rows\": 10000,\n  \"fields\": [\n    {\n      \"column\": \"Hours Studied\",\n      \"properties\": {\n        \"dtype\": \"number\",\n        \"std\": 2,\n        \"min\": 1,\n        \"max\": 9,\n        \"num_unique_values\": 9,\n        \"samples\": [\n          1,\n          4,\n          6\n        ],\n        \"semantic_type\": \"\",\n        \"description\": \"\"\n      }\n    },\n    {\n      \"column\": \"Previous Scores\",\n      \"properties\": {\n        \"dtype\": \"number\",\n        \"std\": 17,\n        \"min\": 40,\n        \"max\": 99,\n        \"num_unique_values\": 60,\n        \"samples\": [\n          99,\n          78,\n          93\n        ],\n        \"semantic_type\": \"\",\n        \"description\": \"\"\n      }\n    },\n    {\n      \"column\": \"Extracurricular Activities\",\n      \"properties\": {\n        \"dtype\": \"category\",\n        \"num_unique_values\": 2,\n        \"samples\": [\n          \"No\",\n          \"Yes\"\n        ],\n        \"semantic_type\": \"\",\n        \"description\": \"\"\n      }\n    },\n    {\n      \"column\": \"Sleep Hours\",\n      \"properties\": {\n        \"dtype\": \"number\",\n        \"std\": 1,\n        \"min\": 4,\n        \"max\": 9,\n        \"num_unique_values\": 6,\n        \"samples\": [\n          9,\n          4\n        ],\n        \"semantic_type\": \"\",\n        \"description\": \"\"\n      }\n    },\n    {\n      \"column\": \"Sample Question Papers Practiced\",\n      \"properties\": {\n        \"dtype\": \"number\",\n        \"std\": 2,\n        \"min\": 0,\n        \"max\": 9,\n        \"num_unique_values\": 10,\n        \"samples\": [\n          9,\n          2\n        ],\n        \"semantic_type\": \"\",\n        \"description\": \"\"\n      }\n    },\n    {\n      \"column\": \"Performance Index\",\n      \"properties\": {\n        \"dtype\": \"number\",\n        \"std\": 19.212557799463323,\n        \"min\": 10.0,\n        \"max\": 100.0,\n        \"num_unique_values\": 91,\n        \"samples\": [\n          41.0,\n          49.0\n        ],\n        \"semantic_type\": \"\",\n        \"description\": \"\"\n      }\n    }\n  ]\n}"
            }
          },
          "metadata": {},
          "execution_count": 3
        }
      ]
    },
    {
      "cell_type": "code",
      "source": [
        "df['Extracurricular Activities'] = df['Extracurricular Activities'].replace({'Yes': 1, 'No': 0})"
      ],
      "metadata": {
        "colab": {
          "base_uri": "https://localhost:8080/"
        },
        "id": "3GpTavxiecGQ",
        "outputId": "8d215eea-77bf-45ff-aae4-89c5197f5900"
      },
      "execution_count": null,
      "outputs": [
        {
          "output_type": "stream",
          "name": "stderr",
          "text": [
            "<ipython-input-4-dffae8795ae7>:1: FutureWarning: Downcasting behavior in `replace` is deprecated and will be removed in a future version. To retain the old behavior, explicitly call `result.infer_objects(copy=False)`. To opt-in to the future behavior, set `pd.set_option('future.no_silent_downcasting', True)`\n",
            "  df['Extracurricular Activities'] = df['Extracurricular Activities'].replace({'Yes': 1, 'No': 0})\n"
          ]
        }
      ]
    },
    {
      "cell_type": "code",
      "source": [
        "# Verificando formato da base criada\n",
        "df.shape"
      ],
      "metadata": {
        "colab": {
          "base_uri": "https://localhost:8080/"
        },
        "id": "bxaS-dlaHBvd",
        "outputId": "53c7f221-b550-4dab-be96-d3132ac8d835"
      },
      "execution_count": null,
      "outputs": [
        {
          "output_type": "execute_result",
          "data": {
            "text/plain": [
              "(10000, 6)"
            ]
          },
          "metadata": {},
          "execution_count": 5
        }
      ]
    },
    {
      "cell_type": "code",
      "source": [
        "# dtype de cada coluna\n",
        "df.dtypes"
      ],
      "metadata": {
        "colab": {
          "base_uri": "https://localhost:8080/",
          "height": 272
        },
        "id": "y1In4DLec6-t",
        "outputId": "469d11eb-4af2-42cc-8561-66fe32b352f7"
      },
      "execution_count": null,
      "outputs": [
        {
          "output_type": "execute_result",
          "data": {
            "text/plain": [
              "Hours Studied                         int64\n",
              "Previous Scores                       int64\n",
              "Extracurricular Activities            int64\n",
              "Sleep Hours                           int64\n",
              "Sample Question Papers Practiced      int64\n",
              "Performance Index                   float64\n",
              "dtype: object"
            ],
            "text/html": [
              "<div>\n",
              "<style scoped>\n",
              "    .dataframe tbody tr th:only-of-type {\n",
              "        vertical-align: middle;\n",
              "    }\n",
              "\n",
              "    .dataframe tbody tr th {\n",
              "        vertical-align: top;\n",
              "    }\n",
              "\n",
              "    .dataframe thead th {\n",
              "        text-align: right;\n",
              "    }\n",
              "</style>\n",
              "<table border=\"1\" class=\"dataframe\">\n",
              "  <thead>\n",
              "    <tr style=\"text-align: right;\">\n",
              "      <th></th>\n",
              "      <th>0</th>\n",
              "    </tr>\n",
              "  </thead>\n",
              "  <tbody>\n",
              "    <tr>\n",
              "      <th>Hours Studied</th>\n",
              "      <td>int64</td>\n",
              "    </tr>\n",
              "    <tr>\n",
              "      <th>Previous Scores</th>\n",
              "      <td>int64</td>\n",
              "    </tr>\n",
              "    <tr>\n",
              "      <th>Extracurricular Activities</th>\n",
              "      <td>int64</td>\n",
              "    </tr>\n",
              "    <tr>\n",
              "      <th>Sleep Hours</th>\n",
              "      <td>int64</td>\n",
              "    </tr>\n",
              "    <tr>\n",
              "      <th>Sample Question Papers Practiced</th>\n",
              "      <td>int64</td>\n",
              "    </tr>\n",
              "    <tr>\n",
              "      <th>Performance Index</th>\n",
              "      <td>float64</td>\n",
              "    </tr>\n",
              "  </tbody>\n",
              "</table>\n",
              "</div><br><label><b>dtype:</b> object</label>"
            ]
          },
          "metadata": {},
          "execution_count": 6
        }
      ]
    },
    {
      "cell_type": "code",
      "source": [
        "# verifica missing values\n",
        "df.isna().sum()"
      ],
      "metadata": {
        "colab": {
          "base_uri": "https://localhost:8080/",
          "height": 272
        },
        "id": "UzIv34hQdfW8",
        "outputId": "a09906f1-9c1f-461b-ed54-a1ac2587f933"
      },
      "execution_count": null,
      "outputs": [
        {
          "output_type": "execute_result",
          "data": {
            "text/plain": [
              "Hours Studied                       0\n",
              "Previous Scores                     0\n",
              "Extracurricular Activities          0\n",
              "Sleep Hours                         0\n",
              "Sample Question Papers Practiced    0\n",
              "Performance Index                   0\n",
              "dtype: int64"
            ],
            "text/html": [
              "<div>\n",
              "<style scoped>\n",
              "    .dataframe tbody tr th:only-of-type {\n",
              "        vertical-align: middle;\n",
              "    }\n",
              "\n",
              "    .dataframe tbody tr th {\n",
              "        vertical-align: top;\n",
              "    }\n",
              "\n",
              "    .dataframe thead th {\n",
              "        text-align: right;\n",
              "    }\n",
              "</style>\n",
              "<table border=\"1\" class=\"dataframe\">\n",
              "  <thead>\n",
              "    <tr style=\"text-align: right;\">\n",
              "      <th></th>\n",
              "      <th>0</th>\n",
              "    </tr>\n",
              "  </thead>\n",
              "  <tbody>\n",
              "    <tr>\n",
              "      <th>Hours Studied</th>\n",
              "      <td>0</td>\n",
              "    </tr>\n",
              "    <tr>\n",
              "      <th>Previous Scores</th>\n",
              "      <td>0</td>\n",
              "    </tr>\n",
              "    <tr>\n",
              "      <th>Extracurricular Activities</th>\n",
              "      <td>0</td>\n",
              "    </tr>\n",
              "    <tr>\n",
              "      <th>Sleep Hours</th>\n",
              "      <td>0</td>\n",
              "    </tr>\n",
              "    <tr>\n",
              "      <th>Sample Question Papers Practiced</th>\n",
              "      <td>0</td>\n",
              "    </tr>\n",
              "    <tr>\n",
              "      <th>Performance Index</th>\n",
              "      <td>0</td>\n",
              "    </tr>\n",
              "  </tbody>\n",
              "</table>\n",
              "</div><br><label><b>dtype:</b> int64</label>"
            ]
          },
          "metadata": {},
          "execution_count": 7
        }
      ]
    },
    {
      "cell_type": "markdown",
      "source": [
        "**Conclusão:** Não há valores nulos"
      ],
      "metadata": {
        "id": "Uyceoy-lGtRr"
      }
    },
    {
      "cell_type": "code",
      "source": [
        "# verifica linhas duplicadas\n",
        "df.duplicated().sum()"
      ],
      "metadata": {
        "colab": {
          "base_uri": "https://localhost:8080/"
        },
        "id": "8GkccxsFfGff",
        "outputId": "4cccab16-8c09-4242-e58e-5182eddbcd58"
      },
      "execution_count": null,
      "outputs": [
        {
          "output_type": "execute_result",
          "data": {
            "text/plain": [
              "127"
            ]
          },
          "metadata": {},
          "execution_count": 8
        }
      ]
    },
    {
      "cell_type": "markdown",
      "source": [
        "**Conclusão:** Há 127 linhas duplicadas que devem ser excluidas"
      ],
      "metadata": {
        "id": "DPQbBuJ6G5Z-"
      }
    },
    {
      "cell_type": "code",
      "source": [
        "# Excluir linhas duplicadas\n",
        "df = df.drop_duplicates()\n",
        "\n",
        "# verifica linhas duplicadas\n",
        "df.duplicated().sum()"
      ],
      "metadata": {
        "colab": {
          "base_uri": "https://localhost:8080/"
        },
        "id": "izxjlC2eb2Mp",
        "outputId": "de3003cc-dc17-4aef-b727-1cfec9691896"
      },
      "execution_count": null,
      "outputs": [
        {
          "output_type": "execute_result",
          "data": {
            "text/plain": [
              "0"
            ]
          },
          "metadata": {},
          "execution_count": 9
        }
      ]
    },
    {
      "cell_type": "markdown",
      "source": [
        "**Conclusão:** Linhas duplicadas foram excluidas"
      ],
      "metadata": {
        "id": "rp1auLqZG-s6"
      }
    },
    {
      "cell_type": "code",
      "source": [
        "# Criar 3 bases de estudo:\n",
        "\n",
        "df_total = df\n",
        "df_atvd_curric = df[df['Extracurricular Activities'] == 1]\n",
        "df_natvd_curric = df[df['Extracurricular Activities'] == 0]"
      ],
      "metadata": {
        "id": "aFFS2xsQff48"
      },
      "execution_count": null,
      "outputs": []
    },
    {
      "cell_type": "markdown",
      "source": [
        "\n",
        "1) Todos os dados\n",
        "\n",
        "2) Apenas alunos que realizaram atividades Extracurriculares\n",
        "\n",
        "3) Apenas alunos que não realizaram atividades Extracurriculares"
      ],
      "metadata": {
        "id": "Yr6a7SAqHHkF"
      }
    },
    {
      "cell_type": "code",
      "source": [
        "# sumário estatístico df_total\n",
        "df_total.describe()"
      ],
      "metadata": {
        "colab": {
          "base_uri": "https://localhost:8080/",
          "height": 300
        },
        "id": "hJaEA9srmZf0",
        "outputId": "e4c4af5c-a7d7-4f1c-bba4-a12494a556a0"
      },
      "execution_count": null,
      "outputs": [
        {
          "output_type": "execute_result",
          "data": {
            "text/plain": [
              "       Hours Studied  Previous Scores  Extracurricular Activities  \\\n",
              "count    9873.000000      9873.000000                 9873.000000   \n",
              "mean        4.992100        69.441102                    0.494986   \n",
              "std         2.589081        17.325601                    0.500000   \n",
              "min         1.000000        40.000000                    0.000000   \n",
              "25%         3.000000        54.000000                    0.000000   \n",
              "50%         5.000000        69.000000                    0.000000   \n",
              "75%         7.000000        85.000000                    1.000000   \n",
              "max         9.000000        99.000000                    1.000000   \n",
              "\n",
              "       Sleep Hours  Sample Question Papers Practiced  Performance Index  \n",
              "count  9873.000000                       9873.000000        9873.000000  \n",
              "mean      6.531652                          4.583004          55.216651  \n",
              "std       1.697683                          2.867202          19.208570  \n",
              "min       4.000000                          0.000000          10.000000  \n",
              "25%       5.000000                          2.000000          40.000000  \n",
              "50%       7.000000                          5.000000          55.000000  \n",
              "75%       8.000000                          7.000000          70.000000  \n",
              "max       9.000000                          9.000000         100.000000  "
            ],
            "text/html": [
              "\n",
              "  <div id=\"df-ce53c69c-cc1a-4ec0-b32d-895198c29d0b\" class=\"colab-df-container\">\n",
              "    <div>\n",
              "<style scoped>\n",
              "    .dataframe tbody tr th:only-of-type {\n",
              "        vertical-align: middle;\n",
              "    }\n",
              "\n",
              "    .dataframe tbody tr th {\n",
              "        vertical-align: top;\n",
              "    }\n",
              "\n",
              "    .dataframe thead th {\n",
              "        text-align: right;\n",
              "    }\n",
              "</style>\n",
              "<table border=\"1\" class=\"dataframe\">\n",
              "  <thead>\n",
              "    <tr style=\"text-align: right;\">\n",
              "      <th></th>\n",
              "      <th>Hours Studied</th>\n",
              "      <th>Previous Scores</th>\n",
              "      <th>Extracurricular Activities</th>\n",
              "      <th>Sleep Hours</th>\n",
              "      <th>Sample Question Papers Practiced</th>\n",
              "      <th>Performance Index</th>\n",
              "    </tr>\n",
              "  </thead>\n",
              "  <tbody>\n",
              "    <tr>\n",
              "      <th>count</th>\n",
              "      <td>9873.000000</td>\n",
              "      <td>9873.000000</td>\n",
              "      <td>9873.000000</td>\n",
              "      <td>9873.000000</td>\n",
              "      <td>9873.000000</td>\n",
              "      <td>9873.000000</td>\n",
              "    </tr>\n",
              "    <tr>\n",
              "      <th>mean</th>\n",
              "      <td>4.992100</td>\n",
              "      <td>69.441102</td>\n",
              "      <td>0.494986</td>\n",
              "      <td>6.531652</td>\n",
              "      <td>4.583004</td>\n",
              "      <td>55.216651</td>\n",
              "    </tr>\n",
              "    <tr>\n",
              "      <th>std</th>\n",
              "      <td>2.589081</td>\n",
              "      <td>17.325601</td>\n",
              "      <td>0.500000</td>\n",
              "      <td>1.697683</td>\n",
              "      <td>2.867202</td>\n",
              "      <td>19.208570</td>\n",
              "    </tr>\n",
              "    <tr>\n",
              "      <th>min</th>\n",
              "      <td>1.000000</td>\n",
              "      <td>40.000000</td>\n",
              "      <td>0.000000</td>\n",
              "      <td>4.000000</td>\n",
              "      <td>0.000000</td>\n",
              "      <td>10.000000</td>\n",
              "    </tr>\n",
              "    <tr>\n",
              "      <th>25%</th>\n",
              "      <td>3.000000</td>\n",
              "      <td>54.000000</td>\n",
              "      <td>0.000000</td>\n",
              "      <td>5.000000</td>\n",
              "      <td>2.000000</td>\n",
              "      <td>40.000000</td>\n",
              "    </tr>\n",
              "    <tr>\n",
              "      <th>50%</th>\n",
              "      <td>5.000000</td>\n",
              "      <td>69.000000</td>\n",
              "      <td>0.000000</td>\n",
              "      <td>7.000000</td>\n",
              "      <td>5.000000</td>\n",
              "      <td>55.000000</td>\n",
              "    </tr>\n",
              "    <tr>\n",
              "      <th>75%</th>\n",
              "      <td>7.000000</td>\n",
              "      <td>85.000000</td>\n",
              "      <td>1.000000</td>\n",
              "      <td>8.000000</td>\n",
              "      <td>7.000000</td>\n",
              "      <td>70.000000</td>\n",
              "    </tr>\n",
              "    <tr>\n",
              "      <th>max</th>\n",
              "      <td>9.000000</td>\n",
              "      <td>99.000000</td>\n",
              "      <td>1.000000</td>\n",
              "      <td>9.000000</td>\n",
              "      <td>9.000000</td>\n",
              "      <td>100.000000</td>\n",
              "    </tr>\n",
              "  </tbody>\n",
              "</table>\n",
              "</div>\n",
              "    <div class=\"colab-df-buttons\">\n",
              "\n",
              "  <div class=\"colab-df-container\">\n",
              "    <button class=\"colab-df-convert\" onclick=\"convertToInteractive('df-ce53c69c-cc1a-4ec0-b32d-895198c29d0b')\"\n",
              "            title=\"Convert this dataframe to an interactive table.\"\n",
              "            style=\"display:none;\">\n",
              "\n",
              "  <svg xmlns=\"http://www.w3.org/2000/svg\" height=\"24px\" viewBox=\"0 -960 960 960\">\n",
              "    <path d=\"M120-120v-720h720v720H120Zm60-500h600v-160H180v160Zm220 220h160v-160H400v160Zm0 220h160v-160H400v160ZM180-400h160v-160H180v160Zm440 0h160v-160H620v160ZM180-180h160v-160H180v160Zm440 0h160v-160H620v160Z\"/>\n",
              "  </svg>\n",
              "    </button>\n",
              "\n",
              "  <style>\n",
              "    .colab-df-container {\n",
              "      display:flex;\n",
              "      gap: 12px;\n",
              "    }\n",
              "\n",
              "    .colab-df-convert {\n",
              "      background-color: #E8F0FE;\n",
              "      border: none;\n",
              "      border-radius: 50%;\n",
              "      cursor: pointer;\n",
              "      display: none;\n",
              "      fill: #1967D2;\n",
              "      height: 32px;\n",
              "      padding: 0 0 0 0;\n",
              "      width: 32px;\n",
              "    }\n",
              "\n",
              "    .colab-df-convert:hover {\n",
              "      background-color: #E2EBFA;\n",
              "      box-shadow: 0px 1px 2px rgba(60, 64, 67, 0.3), 0px 1px 3px 1px rgba(60, 64, 67, 0.15);\n",
              "      fill: #174EA6;\n",
              "    }\n",
              "\n",
              "    .colab-df-buttons div {\n",
              "      margin-bottom: 4px;\n",
              "    }\n",
              "\n",
              "    [theme=dark] .colab-df-convert {\n",
              "      background-color: #3B4455;\n",
              "      fill: #D2E3FC;\n",
              "    }\n",
              "\n",
              "    [theme=dark] .colab-df-convert:hover {\n",
              "      background-color: #434B5C;\n",
              "      box-shadow: 0px 1px 3px 1px rgba(0, 0, 0, 0.15);\n",
              "      filter: drop-shadow(0px 1px 2px rgba(0, 0, 0, 0.3));\n",
              "      fill: #FFFFFF;\n",
              "    }\n",
              "  </style>\n",
              "\n",
              "    <script>\n",
              "      const buttonEl =\n",
              "        document.querySelector('#df-ce53c69c-cc1a-4ec0-b32d-895198c29d0b button.colab-df-convert');\n",
              "      buttonEl.style.display =\n",
              "        google.colab.kernel.accessAllowed ? 'block' : 'none';\n",
              "\n",
              "      async function convertToInteractive(key) {\n",
              "        const element = document.querySelector('#df-ce53c69c-cc1a-4ec0-b32d-895198c29d0b');\n",
              "        const dataTable =\n",
              "          await google.colab.kernel.invokeFunction('convertToInteractive',\n",
              "                                                    [key], {});\n",
              "        if (!dataTable) return;\n",
              "\n",
              "        const docLinkHtml = 'Like what you see? Visit the ' +\n",
              "          '<a target=\"_blank\" href=https://colab.research.google.com/notebooks/data_table.ipynb>data table notebook</a>'\n",
              "          + ' to learn more about interactive tables.';\n",
              "        element.innerHTML = '';\n",
              "        dataTable['output_type'] = 'display_data';\n",
              "        await google.colab.output.renderOutput(dataTable, element);\n",
              "        const docLink = document.createElement('div');\n",
              "        docLink.innerHTML = docLinkHtml;\n",
              "        element.appendChild(docLink);\n",
              "      }\n",
              "    </script>\n",
              "  </div>\n",
              "\n",
              "\n",
              "<div id=\"df-828d0cb0-1168-49b6-9bb3-9986a4b69f75\">\n",
              "  <button class=\"colab-df-quickchart\" onclick=\"quickchart('df-828d0cb0-1168-49b6-9bb3-9986a4b69f75')\"\n",
              "            title=\"Suggest charts\"\n",
              "            style=\"display:none;\">\n",
              "\n",
              "<svg xmlns=\"http://www.w3.org/2000/svg\" height=\"24px\"viewBox=\"0 0 24 24\"\n",
              "     width=\"24px\">\n",
              "    <g>\n",
              "        <path d=\"M19 3H5c-1.1 0-2 .9-2 2v14c0 1.1.9 2 2 2h14c1.1 0 2-.9 2-2V5c0-1.1-.9-2-2-2zM9 17H7v-7h2v7zm4 0h-2V7h2v10zm4 0h-2v-4h2v4z\"/>\n",
              "    </g>\n",
              "</svg>\n",
              "  </button>\n",
              "\n",
              "<style>\n",
              "  .colab-df-quickchart {\n",
              "      --bg-color: #E8F0FE;\n",
              "      --fill-color: #1967D2;\n",
              "      --hover-bg-color: #E2EBFA;\n",
              "      --hover-fill-color: #174EA6;\n",
              "      --disabled-fill-color: #AAA;\n",
              "      --disabled-bg-color: #DDD;\n",
              "  }\n",
              "\n",
              "  [theme=dark] .colab-df-quickchart {\n",
              "      --bg-color: #3B4455;\n",
              "      --fill-color: #D2E3FC;\n",
              "      --hover-bg-color: #434B5C;\n",
              "      --hover-fill-color: #FFFFFF;\n",
              "      --disabled-bg-color: #3B4455;\n",
              "      --disabled-fill-color: #666;\n",
              "  }\n",
              "\n",
              "  .colab-df-quickchart {\n",
              "    background-color: var(--bg-color);\n",
              "    border: none;\n",
              "    border-radius: 50%;\n",
              "    cursor: pointer;\n",
              "    display: none;\n",
              "    fill: var(--fill-color);\n",
              "    height: 32px;\n",
              "    padding: 0;\n",
              "    width: 32px;\n",
              "  }\n",
              "\n",
              "  .colab-df-quickchart:hover {\n",
              "    background-color: var(--hover-bg-color);\n",
              "    box-shadow: 0 1px 2px rgba(60, 64, 67, 0.3), 0 1px 3px 1px rgba(60, 64, 67, 0.15);\n",
              "    fill: var(--button-hover-fill-color);\n",
              "  }\n",
              "\n",
              "  .colab-df-quickchart-complete:disabled,\n",
              "  .colab-df-quickchart-complete:disabled:hover {\n",
              "    background-color: var(--disabled-bg-color);\n",
              "    fill: var(--disabled-fill-color);\n",
              "    box-shadow: none;\n",
              "  }\n",
              "\n",
              "  .colab-df-spinner {\n",
              "    border: 2px solid var(--fill-color);\n",
              "    border-color: transparent;\n",
              "    border-bottom-color: var(--fill-color);\n",
              "    animation:\n",
              "      spin 1s steps(1) infinite;\n",
              "  }\n",
              "\n",
              "  @keyframes spin {\n",
              "    0% {\n",
              "      border-color: transparent;\n",
              "      border-bottom-color: var(--fill-color);\n",
              "      border-left-color: var(--fill-color);\n",
              "    }\n",
              "    20% {\n",
              "      border-color: transparent;\n",
              "      border-left-color: var(--fill-color);\n",
              "      border-top-color: var(--fill-color);\n",
              "    }\n",
              "    30% {\n",
              "      border-color: transparent;\n",
              "      border-left-color: var(--fill-color);\n",
              "      border-top-color: var(--fill-color);\n",
              "      border-right-color: var(--fill-color);\n",
              "    }\n",
              "    40% {\n",
              "      border-color: transparent;\n",
              "      border-right-color: var(--fill-color);\n",
              "      border-top-color: var(--fill-color);\n",
              "    }\n",
              "    60% {\n",
              "      border-color: transparent;\n",
              "      border-right-color: var(--fill-color);\n",
              "    }\n",
              "    80% {\n",
              "      border-color: transparent;\n",
              "      border-right-color: var(--fill-color);\n",
              "      border-bottom-color: var(--fill-color);\n",
              "    }\n",
              "    90% {\n",
              "      border-color: transparent;\n",
              "      border-bottom-color: var(--fill-color);\n",
              "    }\n",
              "  }\n",
              "</style>\n",
              "\n",
              "  <script>\n",
              "    async function quickchart(key) {\n",
              "      const quickchartButtonEl =\n",
              "        document.querySelector('#' + key + ' button');\n",
              "      quickchartButtonEl.disabled = true;  // To prevent multiple clicks.\n",
              "      quickchartButtonEl.classList.add('colab-df-spinner');\n",
              "      try {\n",
              "        const charts = await google.colab.kernel.invokeFunction(\n",
              "            'suggestCharts', [key], {});\n",
              "      } catch (error) {\n",
              "        console.error('Error during call to suggestCharts:', error);\n",
              "      }\n",
              "      quickchartButtonEl.classList.remove('colab-df-spinner');\n",
              "      quickchartButtonEl.classList.add('colab-df-quickchart-complete');\n",
              "    }\n",
              "    (() => {\n",
              "      let quickchartButtonEl =\n",
              "        document.querySelector('#df-828d0cb0-1168-49b6-9bb3-9986a4b69f75 button');\n",
              "      quickchartButtonEl.style.display =\n",
              "        google.colab.kernel.accessAllowed ? 'block' : 'none';\n",
              "    })();\n",
              "  </script>\n",
              "</div>\n",
              "\n",
              "    </div>\n",
              "  </div>\n"
            ],
            "application/vnd.google.colaboratory.intrinsic+json": {
              "type": "dataframe",
              "summary": "{\n  \"name\": \"# Conclus\\u00e3o: N\\u00e3o foi identificado nenhum valor fora da normalidade\",\n  \"rows\": 8,\n  \"fields\": [\n    {\n      \"column\": \"Hours Studied\",\n      \"properties\": {\n        \"dtype\": \"number\",\n        \"std\": 3488.9879479833444,\n        \"min\": 1.0,\n        \"max\": 9873.0,\n        \"num_unique_values\": 8,\n        \"samples\": [\n          4.99209966575509,\n          5.0,\n          9873.0\n        ],\n        \"semantic_type\": \"\",\n        \"description\": \"\"\n      }\n    },\n    {\n      \"column\": \"Previous Scores\",\n      \"properties\": {\n        \"dtype\": \"number\",\n        \"std\": 3468.8177125171374,\n        \"min\": 17.32560125228177,\n        \"max\": 9873.0,\n        \"num_unique_values\": 8,\n        \"samples\": [\n          69.44110199534083,\n          69.0,\n          9873.0\n        ],\n        \"semantic_type\": \"\",\n        \"description\": \"\"\n      }\n    },\n    {\n      \"column\": \"Extracurricular Activities\",\n      \"properties\": {\n        \"dtype\": \"number\",\n        \"std\": 3490.4813804998457,\n        \"min\": 0.0,\n        \"max\": 9873.0,\n        \"num_unique_values\": 5,\n        \"samples\": [\n          0.4949863263445761,\n          1.0,\n          0.500000184679251\n        ],\n        \"semantic_type\": \"\",\n        \"description\": \"\"\n      }\n    },\n    {\n      \"column\": \"Sleep Hours\",\n      \"properties\": {\n        \"dtype\": \"number\",\n        \"std\": 3488.5510015236623,\n        \"min\": 1.6976828627670124,\n        \"max\": 9873.0,\n        \"num_unique_values\": 8,\n        \"samples\": [\n          6.531651980147878,\n          7.0,\n          9873.0\n        ],\n        \"semantic_type\": \"\",\n        \"description\": \"\"\n      }\n    },\n    {\n      \"column\": \"Sample Question Papers Practiced\",\n      \"properties\": {\n        \"dtype\": \"number\",\n        \"std\": 3489.095799273015,\n        \"min\": 0.0,\n        \"max\": 9873.0,\n        \"num_unique_values\": 8,\n        \"samples\": [\n          4.583004152739796,\n          5.0,\n          9873.0\n        ],\n        \"semantic_type\": \"\",\n        \"description\": \"\"\n      }\n    },\n    {\n      \"column\": \"Performance Index\",\n      \"properties\": {\n        \"dtype\": \"number\",\n        \"std\": 3473.0991650427836,\n        \"min\": 10.0,\n        \"max\": 9873.0,\n        \"num_unique_values\": 8,\n        \"samples\": [\n          55.2166514737162,\n          55.0,\n          9873.0\n        ],\n        \"semantic_type\": \"\",\n        \"description\": \"\"\n      }\n    }\n  ]\n}"
            }
          },
          "metadata": {},
          "execution_count": 11
        }
      ]
    },
    {
      "cell_type": "markdown",
      "source": [
        "**Conclusão:** Não foi identificado nenhum valor fora da normalidade"
      ],
      "metadata": {
        "id": "628g8o-0HI4u"
      }
    },
    {
      "cell_type": "code",
      "source": [
        "# sumário estatístico df_atvd_curric\n",
        "df_atvd_curric.describe()"
      ],
      "metadata": {
        "colab": {
          "base_uri": "https://localhost:8080/",
          "height": 300
        },
        "id": "BVVqCKoOf_KH",
        "outputId": "ae40be4f-f03c-43cd-fe76-c8a6c2ffff87"
      },
      "execution_count": null,
      "outputs": [
        {
          "output_type": "execute_result",
          "data": {
            "text/plain": [
              "       Hours Studied  Previous Scores  Extracurricular Activities  \\\n",
              "count    4887.000000      4887.000000                      4887.0   \n",
              "mean        5.004911        69.607939                         1.0   \n",
              "std         2.574390        17.336965                         0.0   \n",
              "min         1.000000        40.000000                         1.0   \n",
              "25%         3.000000        55.000000                         1.0   \n",
              "50%         5.000000        70.000000                         1.0   \n",
              "75%         7.000000        85.000000                         1.0   \n",
              "max         9.000000        99.000000                         1.0   \n",
              "\n",
              "       Sleep Hours  Sample Question Papers Practiced  Performance Index  \n",
              "count  4887.000000                       4887.000000        4887.000000  \n",
              "mean      6.490485                          4.623082          55.722529  \n",
              "std       1.690509                          2.853057          19.260073  \n",
              "min       4.000000                          0.000000          11.000000  \n",
              "25%       5.000000                          2.000000          41.000000  \n",
              "50%       6.000000                          5.000000          55.000000  \n",
              "75%       8.000000                          7.000000          71.000000  \n",
              "max       9.000000                          9.000000         100.000000  "
            ],
            "text/html": [
              "\n",
              "  <div id=\"df-6636f2cc-d35b-4345-bf2c-1e045c020b6f\" class=\"colab-df-container\">\n",
              "    <div>\n",
              "<style scoped>\n",
              "    .dataframe tbody tr th:only-of-type {\n",
              "        vertical-align: middle;\n",
              "    }\n",
              "\n",
              "    .dataframe tbody tr th {\n",
              "        vertical-align: top;\n",
              "    }\n",
              "\n",
              "    .dataframe thead th {\n",
              "        text-align: right;\n",
              "    }\n",
              "</style>\n",
              "<table border=\"1\" class=\"dataframe\">\n",
              "  <thead>\n",
              "    <tr style=\"text-align: right;\">\n",
              "      <th></th>\n",
              "      <th>Hours Studied</th>\n",
              "      <th>Previous Scores</th>\n",
              "      <th>Extracurricular Activities</th>\n",
              "      <th>Sleep Hours</th>\n",
              "      <th>Sample Question Papers Practiced</th>\n",
              "      <th>Performance Index</th>\n",
              "    </tr>\n",
              "  </thead>\n",
              "  <tbody>\n",
              "    <tr>\n",
              "      <th>count</th>\n",
              "      <td>4887.000000</td>\n",
              "      <td>4887.000000</td>\n",
              "      <td>4887.0</td>\n",
              "      <td>4887.000000</td>\n",
              "      <td>4887.000000</td>\n",
              "      <td>4887.000000</td>\n",
              "    </tr>\n",
              "    <tr>\n",
              "      <th>mean</th>\n",
              "      <td>5.004911</td>\n",
              "      <td>69.607939</td>\n",
              "      <td>1.0</td>\n",
              "      <td>6.490485</td>\n",
              "      <td>4.623082</td>\n",
              "      <td>55.722529</td>\n",
              "    </tr>\n",
              "    <tr>\n",
              "      <th>std</th>\n",
              "      <td>2.574390</td>\n",
              "      <td>17.336965</td>\n",
              "      <td>0.0</td>\n",
              "      <td>1.690509</td>\n",
              "      <td>2.853057</td>\n",
              "      <td>19.260073</td>\n",
              "    </tr>\n",
              "    <tr>\n",
              "      <th>min</th>\n",
              "      <td>1.000000</td>\n",
              "      <td>40.000000</td>\n",
              "      <td>1.0</td>\n",
              "      <td>4.000000</td>\n",
              "      <td>0.000000</td>\n",
              "      <td>11.000000</td>\n",
              "    </tr>\n",
              "    <tr>\n",
              "      <th>25%</th>\n",
              "      <td>3.000000</td>\n",
              "      <td>55.000000</td>\n",
              "      <td>1.0</td>\n",
              "      <td>5.000000</td>\n",
              "      <td>2.000000</td>\n",
              "      <td>41.000000</td>\n",
              "    </tr>\n",
              "    <tr>\n",
              "      <th>50%</th>\n",
              "      <td>5.000000</td>\n",
              "      <td>70.000000</td>\n",
              "      <td>1.0</td>\n",
              "      <td>6.000000</td>\n",
              "      <td>5.000000</td>\n",
              "      <td>55.000000</td>\n",
              "    </tr>\n",
              "    <tr>\n",
              "      <th>75%</th>\n",
              "      <td>7.000000</td>\n",
              "      <td>85.000000</td>\n",
              "      <td>1.0</td>\n",
              "      <td>8.000000</td>\n",
              "      <td>7.000000</td>\n",
              "      <td>71.000000</td>\n",
              "    </tr>\n",
              "    <tr>\n",
              "      <th>max</th>\n",
              "      <td>9.000000</td>\n",
              "      <td>99.000000</td>\n",
              "      <td>1.0</td>\n",
              "      <td>9.000000</td>\n",
              "      <td>9.000000</td>\n",
              "      <td>100.000000</td>\n",
              "    </tr>\n",
              "  </tbody>\n",
              "</table>\n",
              "</div>\n",
              "    <div class=\"colab-df-buttons\">\n",
              "\n",
              "  <div class=\"colab-df-container\">\n",
              "    <button class=\"colab-df-convert\" onclick=\"convertToInteractive('df-6636f2cc-d35b-4345-bf2c-1e045c020b6f')\"\n",
              "            title=\"Convert this dataframe to an interactive table.\"\n",
              "            style=\"display:none;\">\n",
              "\n",
              "  <svg xmlns=\"http://www.w3.org/2000/svg\" height=\"24px\" viewBox=\"0 -960 960 960\">\n",
              "    <path d=\"M120-120v-720h720v720H120Zm60-500h600v-160H180v160Zm220 220h160v-160H400v160Zm0 220h160v-160H400v160ZM180-400h160v-160H180v160Zm440 0h160v-160H620v160ZM180-180h160v-160H180v160Zm440 0h160v-160H620v160Z\"/>\n",
              "  </svg>\n",
              "    </button>\n",
              "\n",
              "  <style>\n",
              "    .colab-df-container {\n",
              "      display:flex;\n",
              "      gap: 12px;\n",
              "    }\n",
              "\n",
              "    .colab-df-convert {\n",
              "      background-color: #E8F0FE;\n",
              "      border: none;\n",
              "      border-radius: 50%;\n",
              "      cursor: pointer;\n",
              "      display: none;\n",
              "      fill: #1967D2;\n",
              "      height: 32px;\n",
              "      padding: 0 0 0 0;\n",
              "      width: 32px;\n",
              "    }\n",
              "\n",
              "    .colab-df-convert:hover {\n",
              "      background-color: #E2EBFA;\n",
              "      box-shadow: 0px 1px 2px rgba(60, 64, 67, 0.3), 0px 1px 3px 1px rgba(60, 64, 67, 0.15);\n",
              "      fill: #174EA6;\n",
              "    }\n",
              "\n",
              "    .colab-df-buttons div {\n",
              "      margin-bottom: 4px;\n",
              "    }\n",
              "\n",
              "    [theme=dark] .colab-df-convert {\n",
              "      background-color: #3B4455;\n",
              "      fill: #D2E3FC;\n",
              "    }\n",
              "\n",
              "    [theme=dark] .colab-df-convert:hover {\n",
              "      background-color: #434B5C;\n",
              "      box-shadow: 0px 1px 3px 1px rgba(0, 0, 0, 0.15);\n",
              "      filter: drop-shadow(0px 1px 2px rgba(0, 0, 0, 0.3));\n",
              "      fill: #FFFFFF;\n",
              "    }\n",
              "  </style>\n",
              "\n",
              "    <script>\n",
              "      const buttonEl =\n",
              "        document.querySelector('#df-6636f2cc-d35b-4345-bf2c-1e045c020b6f button.colab-df-convert');\n",
              "      buttonEl.style.display =\n",
              "        google.colab.kernel.accessAllowed ? 'block' : 'none';\n",
              "\n",
              "      async function convertToInteractive(key) {\n",
              "        const element = document.querySelector('#df-6636f2cc-d35b-4345-bf2c-1e045c020b6f');\n",
              "        const dataTable =\n",
              "          await google.colab.kernel.invokeFunction('convertToInteractive',\n",
              "                                                    [key], {});\n",
              "        if (!dataTable) return;\n",
              "\n",
              "        const docLinkHtml = 'Like what you see? Visit the ' +\n",
              "          '<a target=\"_blank\" href=https://colab.research.google.com/notebooks/data_table.ipynb>data table notebook</a>'\n",
              "          + ' to learn more about interactive tables.';\n",
              "        element.innerHTML = '';\n",
              "        dataTable['output_type'] = 'display_data';\n",
              "        await google.colab.output.renderOutput(dataTable, element);\n",
              "        const docLink = document.createElement('div');\n",
              "        docLink.innerHTML = docLinkHtml;\n",
              "        element.appendChild(docLink);\n",
              "      }\n",
              "    </script>\n",
              "  </div>\n",
              "\n",
              "\n",
              "<div id=\"df-069d9152-fc5a-4c61-a994-041e1a40987d\">\n",
              "  <button class=\"colab-df-quickchart\" onclick=\"quickchart('df-069d9152-fc5a-4c61-a994-041e1a40987d')\"\n",
              "            title=\"Suggest charts\"\n",
              "            style=\"display:none;\">\n",
              "\n",
              "<svg xmlns=\"http://www.w3.org/2000/svg\" height=\"24px\"viewBox=\"0 0 24 24\"\n",
              "     width=\"24px\">\n",
              "    <g>\n",
              "        <path d=\"M19 3H5c-1.1 0-2 .9-2 2v14c0 1.1.9 2 2 2h14c1.1 0 2-.9 2-2V5c0-1.1-.9-2-2-2zM9 17H7v-7h2v7zm4 0h-2V7h2v10zm4 0h-2v-4h2v4z\"/>\n",
              "    </g>\n",
              "</svg>\n",
              "  </button>\n",
              "\n",
              "<style>\n",
              "  .colab-df-quickchart {\n",
              "      --bg-color: #E8F0FE;\n",
              "      --fill-color: #1967D2;\n",
              "      --hover-bg-color: #E2EBFA;\n",
              "      --hover-fill-color: #174EA6;\n",
              "      --disabled-fill-color: #AAA;\n",
              "      --disabled-bg-color: #DDD;\n",
              "  }\n",
              "\n",
              "  [theme=dark] .colab-df-quickchart {\n",
              "      --bg-color: #3B4455;\n",
              "      --fill-color: #D2E3FC;\n",
              "      --hover-bg-color: #434B5C;\n",
              "      --hover-fill-color: #FFFFFF;\n",
              "      --disabled-bg-color: #3B4455;\n",
              "      --disabled-fill-color: #666;\n",
              "  }\n",
              "\n",
              "  .colab-df-quickchart {\n",
              "    background-color: var(--bg-color);\n",
              "    border: none;\n",
              "    border-radius: 50%;\n",
              "    cursor: pointer;\n",
              "    display: none;\n",
              "    fill: var(--fill-color);\n",
              "    height: 32px;\n",
              "    padding: 0;\n",
              "    width: 32px;\n",
              "  }\n",
              "\n",
              "  .colab-df-quickchart:hover {\n",
              "    background-color: var(--hover-bg-color);\n",
              "    box-shadow: 0 1px 2px rgba(60, 64, 67, 0.3), 0 1px 3px 1px rgba(60, 64, 67, 0.15);\n",
              "    fill: var(--button-hover-fill-color);\n",
              "  }\n",
              "\n",
              "  .colab-df-quickchart-complete:disabled,\n",
              "  .colab-df-quickchart-complete:disabled:hover {\n",
              "    background-color: var(--disabled-bg-color);\n",
              "    fill: var(--disabled-fill-color);\n",
              "    box-shadow: none;\n",
              "  }\n",
              "\n",
              "  .colab-df-spinner {\n",
              "    border: 2px solid var(--fill-color);\n",
              "    border-color: transparent;\n",
              "    border-bottom-color: var(--fill-color);\n",
              "    animation:\n",
              "      spin 1s steps(1) infinite;\n",
              "  }\n",
              "\n",
              "  @keyframes spin {\n",
              "    0% {\n",
              "      border-color: transparent;\n",
              "      border-bottom-color: var(--fill-color);\n",
              "      border-left-color: var(--fill-color);\n",
              "    }\n",
              "    20% {\n",
              "      border-color: transparent;\n",
              "      border-left-color: var(--fill-color);\n",
              "      border-top-color: var(--fill-color);\n",
              "    }\n",
              "    30% {\n",
              "      border-color: transparent;\n",
              "      border-left-color: var(--fill-color);\n",
              "      border-top-color: var(--fill-color);\n",
              "      border-right-color: var(--fill-color);\n",
              "    }\n",
              "    40% {\n",
              "      border-color: transparent;\n",
              "      border-right-color: var(--fill-color);\n",
              "      border-top-color: var(--fill-color);\n",
              "    }\n",
              "    60% {\n",
              "      border-color: transparent;\n",
              "      border-right-color: var(--fill-color);\n",
              "    }\n",
              "    80% {\n",
              "      border-color: transparent;\n",
              "      border-right-color: var(--fill-color);\n",
              "      border-bottom-color: var(--fill-color);\n",
              "    }\n",
              "    90% {\n",
              "      border-color: transparent;\n",
              "      border-bottom-color: var(--fill-color);\n",
              "    }\n",
              "  }\n",
              "</style>\n",
              "\n",
              "  <script>\n",
              "    async function quickchart(key) {\n",
              "      const quickchartButtonEl =\n",
              "        document.querySelector('#' + key + ' button');\n",
              "      quickchartButtonEl.disabled = true;  // To prevent multiple clicks.\n",
              "      quickchartButtonEl.classList.add('colab-df-spinner');\n",
              "      try {\n",
              "        const charts = await google.colab.kernel.invokeFunction(\n",
              "            'suggestCharts', [key], {});\n",
              "      } catch (error) {\n",
              "        console.error('Error during call to suggestCharts:', error);\n",
              "      }\n",
              "      quickchartButtonEl.classList.remove('colab-df-spinner');\n",
              "      quickchartButtonEl.classList.add('colab-df-quickchart-complete');\n",
              "    }\n",
              "    (() => {\n",
              "      let quickchartButtonEl =\n",
              "        document.querySelector('#df-069d9152-fc5a-4c61-a994-041e1a40987d button');\n",
              "      quickchartButtonEl.style.display =\n",
              "        google.colab.kernel.accessAllowed ? 'block' : 'none';\n",
              "    })();\n",
              "  </script>\n",
              "</div>\n",
              "\n",
              "    </div>\n",
              "  </div>\n"
            ],
            "application/vnd.google.colaboratory.intrinsic+json": {
              "type": "dataframe",
              "summary": "{\n  \"name\": \"# Conclus\\u00e3o: N\\u00e3o foi identificado nenhum valor fora da normalidade\",\n  \"rows\": 8,\n  \"fields\": [\n    {\n      \"column\": \"Hours Studied\",\n      \"properties\": {\n        \"dtype\": \"number\",\n        \"std\": 1726.1717806619924,\n        \"min\": 1.0,\n        \"max\": 4887.0,\n        \"num_unique_values\": 8,\n        \"samples\": [\n          5.004910988336403,\n          5.0,\n          4887.0\n        ],\n        \"semantic_type\": \"\",\n        \"description\": \"\"\n      }\n    },\n    {\n      \"column\": \"Previous Scores\",\n      \"properties\": {\n        \"dtype\": \"number\",\n        \"std\": 1705.98727294751,\n        \"min\": 17.33696532706803,\n        \"max\": 4887.0,\n        \"num_unique_values\": 8,\n        \"samples\": [\n          69.60793943114385,\n          70.0,\n          4887.0\n        ],\n        \"semantic_type\": \"\",\n        \"description\": \"\"\n      }\n    },\n    {\n      \"column\": \"Extracurricular Activities\",\n      \"properties\": {\n        \"dtype\": \"number\",\n        \"std\": 1727.512409506803,\n        \"min\": 0.0,\n        \"max\": 4887.0,\n        \"num_unique_values\": 3,\n        \"samples\": [\n          4887.0,\n          1.0,\n          0.0\n        ],\n        \"semantic_type\": \"\",\n        \"description\": \"\"\n      }\n    },\n    {\n      \"column\": \"Sleep Hours\",\n      \"properties\": {\n        \"dtype\": \"number\",\n        \"std\": 1725.7874772375365,\n        \"min\": 1.6905087404700332,\n        \"max\": 4887.0,\n        \"num_unique_values\": 8,\n        \"samples\": [\n          6.49048496009822,\n          6.0,\n          4887.0\n        ],\n        \"semantic_type\": \"\",\n        \"description\": \"\"\n      }\n    },\n    {\n      \"column\": \"Sample Question Papers Practiced\",\n      \"properties\": {\n        \"dtype\": \"number\",\n        \"std\": 1726.278452383806,\n        \"min\": 0.0,\n        \"max\": 4887.0,\n        \"num_unique_values\": 8,\n        \"samples\": [\n          4.6230816451810925,\n          5.0,\n          4887.0\n        ],\n        \"semantic_type\": \"\",\n        \"description\": \"\"\n      }\n    },\n    {\n      \"column\": \"Performance Index\",\n      \"properties\": {\n        \"dtype\": \"number\",\n        \"std\": 1710.2186886708778,\n        \"min\": 11.0,\n        \"max\": 4887.0,\n        \"num_unique_values\": 8,\n        \"samples\": [\n          55.72252915899325,\n          55.0,\n          4887.0\n        ],\n        \"semantic_type\": \"\",\n        \"description\": \"\"\n      }\n    }\n  ]\n}"
            }
          },
          "metadata": {},
          "execution_count": 12
        }
      ]
    },
    {
      "cell_type": "markdown",
      "source": [
        "**Conclusão:** Não foi identificado nenhum valor fora da normalidade"
      ],
      "metadata": {
        "id": "jc4apqQrHMsv"
      }
    },
    {
      "cell_type": "code",
      "source": [
        "# sumário estatístico df_natvd_curric\n",
        "df_natvd_curric.describe()"
      ],
      "metadata": {
        "colab": {
          "base_uri": "https://localhost:8080/",
          "height": 300
        },
        "id": "4qSUWgjPf_2a",
        "outputId": "c4dc8725-94ea-4b9c-851a-7a083d96f639"
      },
      "execution_count": null,
      "outputs": [
        {
          "output_type": "execute_result",
          "data": {
            "text/plain": [
              "       Hours Studied  Previous Scores  Extracurricular Activities  \\\n",
              "count    4986.000000      4986.000000                      4986.0   \n",
              "mean        4.979543        69.277577                         0.0   \n",
              "std         2.603597        17.314634                         0.0   \n",
              "min         1.000000        40.000000                         0.0   \n",
              "25%         3.000000        54.000000                         0.0   \n",
              "50%         5.000000        69.000000                         0.0   \n",
              "75%         7.000000        84.000000                         0.0   \n",
              "max         9.000000        99.000000                         0.0   \n",
              "\n",
              "       Sleep Hours  Sample Question Papers Practiced  Performance Index  \n",
              "count  4986.000000                       4986.000000        4986.000000  \n",
              "mean      6.572002                          4.543722          54.720818  \n",
              "std       1.703890                          2.880745          19.146919  \n",
              "min       4.000000                          0.000000          10.000000  \n",
              "25%       5.000000                          2.000000          40.000000  \n",
              "50%       7.000000                          5.000000          55.000000  \n",
              "75%       8.000000                          7.000000          70.000000  \n",
              "max       9.000000                          9.000000          99.000000  "
            ],
            "text/html": [
              "\n",
              "  <div id=\"df-1bf4369d-0daf-48e2-9eae-0a8ca8fcf217\" class=\"colab-df-container\">\n",
              "    <div>\n",
              "<style scoped>\n",
              "    .dataframe tbody tr th:only-of-type {\n",
              "        vertical-align: middle;\n",
              "    }\n",
              "\n",
              "    .dataframe tbody tr th {\n",
              "        vertical-align: top;\n",
              "    }\n",
              "\n",
              "    .dataframe thead th {\n",
              "        text-align: right;\n",
              "    }\n",
              "</style>\n",
              "<table border=\"1\" class=\"dataframe\">\n",
              "  <thead>\n",
              "    <tr style=\"text-align: right;\">\n",
              "      <th></th>\n",
              "      <th>Hours Studied</th>\n",
              "      <th>Previous Scores</th>\n",
              "      <th>Extracurricular Activities</th>\n",
              "      <th>Sleep Hours</th>\n",
              "      <th>Sample Question Papers Practiced</th>\n",
              "      <th>Performance Index</th>\n",
              "    </tr>\n",
              "  </thead>\n",
              "  <tbody>\n",
              "    <tr>\n",
              "      <th>count</th>\n",
              "      <td>4986.000000</td>\n",
              "      <td>4986.000000</td>\n",
              "      <td>4986.0</td>\n",
              "      <td>4986.000000</td>\n",
              "      <td>4986.000000</td>\n",
              "      <td>4986.000000</td>\n",
              "    </tr>\n",
              "    <tr>\n",
              "      <th>mean</th>\n",
              "      <td>4.979543</td>\n",
              "      <td>69.277577</td>\n",
              "      <td>0.0</td>\n",
              "      <td>6.572002</td>\n",
              "      <td>4.543722</td>\n",
              "      <td>54.720818</td>\n",
              "    </tr>\n",
              "    <tr>\n",
              "      <th>std</th>\n",
              "      <td>2.603597</td>\n",
              "      <td>17.314634</td>\n",
              "      <td>0.0</td>\n",
              "      <td>1.703890</td>\n",
              "      <td>2.880745</td>\n",
              "      <td>19.146919</td>\n",
              "    </tr>\n",
              "    <tr>\n",
              "      <th>min</th>\n",
              "      <td>1.000000</td>\n",
              "      <td>40.000000</td>\n",
              "      <td>0.0</td>\n",
              "      <td>4.000000</td>\n",
              "      <td>0.000000</td>\n",
              "      <td>10.000000</td>\n",
              "    </tr>\n",
              "    <tr>\n",
              "      <th>25%</th>\n",
              "      <td>3.000000</td>\n",
              "      <td>54.000000</td>\n",
              "      <td>0.0</td>\n",
              "      <td>5.000000</td>\n",
              "      <td>2.000000</td>\n",
              "      <td>40.000000</td>\n",
              "    </tr>\n",
              "    <tr>\n",
              "      <th>50%</th>\n",
              "      <td>5.000000</td>\n",
              "      <td>69.000000</td>\n",
              "      <td>0.0</td>\n",
              "      <td>7.000000</td>\n",
              "      <td>5.000000</td>\n",
              "      <td>55.000000</td>\n",
              "    </tr>\n",
              "    <tr>\n",
              "      <th>75%</th>\n",
              "      <td>7.000000</td>\n",
              "      <td>84.000000</td>\n",
              "      <td>0.0</td>\n",
              "      <td>8.000000</td>\n",
              "      <td>7.000000</td>\n",
              "      <td>70.000000</td>\n",
              "    </tr>\n",
              "    <tr>\n",
              "      <th>max</th>\n",
              "      <td>9.000000</td>\n",
              "      <td>99.000000</td>\n",
              "      <td>0.0</td>\n",
              "      <td>9.000000</td>\n",
              "      <td>9.000000</td>\n",
              "      <td>99.000000</td>\n",
              "    </tr>\n",
              "  </tbody>\n",
              "</table>\n",
              "</div>\n",
              "    <div class=\"colab-df-buttons\">\n",
              "\n",
              "  <div class=\"colab-df-container\">\n",
              "    <button class=\"colab-df-convert\" onclick=\"convertToInteractive('df-1bf4369d-0daf-48e2-9eae-0a8ca8fcf217')\"\n",
              "            title=\"Convert this dataframe to an interactive table.\"\n",
              "            style=\"display:none;\">\n",
              "\n",
              "  <svg xmlns=\"http://www.w3.org/2000/svg\" height=\"24px\" viewBox=\"0 -960 960 960\">\n",
              "    <path d=\"M120-120v-720h720v720H120Zm60-500h600v-160H180v160Zm220 220h160v-160H400v160Zm0 220h160v-160H400v160ZM180-400h160v-160H180v160Zm440 0h160v-160H620v160ZM180-180h160v-160H180v160Zm440 0h160v-160H620v160Z\"/>\n",
              "  </svg>\n",
              "    </button>\n",
              "\n",
              "  <style>\n",
              "    .colab-df-container {\n",
              "      display:flex;\n",
              "      gap: 12px;\n",
              "    }\n",
              "\n",
              "    .colab-df-convert {\n",
              "      background-color: #E8F0FE;\n",
              "      border: none;\n",
              "      border-radius: 50%;\n",
              "      cursor: pointer;\n",
              "      display: none;\n",
              "      fill: #1967D2;\n",
              "      height: 32px;\n",
              "      padding: 0 0 0 0;\n",
              "      width: 32px;\n",
              "    }\n",
              "\n",
              "    .colab-df-convert:hover {\n",
              "      background-color: #E2EBFA;\n",
              "      box-shadow: 0px 1px 2px rgba(60, 64, 67, 0.3), 0px 1px 3px 1px rgba(60, 64, 67, 0.15);\n",
              "      fill: #174EA6;\n",
              "    }\n",
              "\n",
              "    .colab-df-buttons div {\n",
              "      margin-bottom: 4px;\n",
              "    }\n",
              "\n",
              "    [theme=dark] .colab-df-convert {\n",
              "      background-color: #3B4455;\n",
              "      fill: #D2E3FC;\n",
              "    }\n",
              "\n",
              "    [theme=dark] .colab-df-convert:hover {\n",
              "      background-color: #434B5C;\n",
              "      box-shadow: 0px 1px 3px 1px rgba(0, 0, 0, 0.15);\n",
              "      filter: drop-shadow(0px 1px 2px rgba(0, 0, 0, 0.3));\n",
              "      fill: #FFFFFF;\n",
              "    }\n",
              "  </style>\n",
              "\n",
              "    <script>\n",
              "      const buttonEl =\n",
              "        document.querySelector('#df-1bf4369d-0daf-48e2-9eae-0a8ca8fcf217 button.colab-df-convert');\n",
              "      buttonEl.style.display =\n",
              "        google.colab.kernel.accessAllowed ? 'block' : 'none';\n",
              "\n",
              "      async function convertToInteractive(key) {\n",
              "        const element = document.querySelector('#df-1bf4369d-0daf-48e2-9eae-0a8ca8fcf217');\n",
              "        const dataTable =\n",
              "          await google.colab.kernel.invokeFunction('convertToInteractive',\n",
              "                                                    [key], {});\n",
              "        if (!dataTable) return;\n",
              "\n",
              "        const docLinkHtml = 'Like what you see? Visit the ' +\n",
              "          '<a target=\"_blank\" href=https://colab.research.google.com/notebooks/data_table.ipynb>data table notebook</a>'\n",
              "          + ' to learn more about interactive tables.';\n",
              "        element.innerHTML = '';\n",
              "        dataTable['output_type'] = 'display_data';\n",
              "        await google.colab.output.renderOutput(dataTable, element);\n",
              "        const docLink = document.createElement('div');\n",
              "        docLink.innerHTML = docLinkHtml;\n",
              "        element.appendChild(docLink);\n",
              "      }\n",
              "    </script>\n",
              "  </div>\n",
              "\n",
              "\n",
              "<div id=\"df-4383bcda-eaa8-4ece-b597-0671f1520df9\">\n",
              "  <button class=\"colab-df-quickchart\" onclick=\"quickchart('df-4383bcda-eaa8-4ece-b597-0671f1520df9')\"\n",
              "            title=\"Suggest charts\"\n",
              "            style=\"display:none;\">\n",
              "\n",
              "<svg xmlns=\"http://www.w3.org/2000/svg\" height=\"24px\"viewBox=\"0 0 24 24\"\n",
              "     width=\"24px\">\n",
              "    <g>\n",
              "        <path d=\"M19 3H5c-1.1 0-2 .9-2 2v14c0 1.1.9 2 2 2h14c1.1 0 2-.9 2-2V5c0-1.1-.9-2-2-2zM9 17H7v-7h2v7zm4 0h-2V7h2v10zm4 0h-2v-4h2v4z\"/>\n",
              "    </g>\n",
              "</svg>\n",
              "  </button>\n",
              "\n",
              "<style>\n",
              "  .colab-df-quickchart {\n",
              "      --bg-color: #E8F0FE;\n",
              "      --fill-color: #1967D2;\n",
              "      --hover-bg-color: #E2EBFA;\n",
              "      --hover-fill-color: #174EA6;\n",
              "      --disabled-fill-color: #AAA;\n",
              "      --disabled-bg-color: #DDD;\n",
              "  }\n",
              "\n",
              "  [theme=dark] .colab-df-quickchart {\n",
              "      --bg-color: #3B4455;\n",
              "      --fill-color: #D2E3FC;\n",
              "      --hover-bg-color: #434B5C;\n",
              "      --hover-fill-color: #FFFFFF;\n",
              "      --disabled-bg-color: #3B4455;\n",
              "      --disabled-fill-color: #666;\n",
              "  }\n",
              "\n",
              "  .colab-df-quickchart {\n",
              "    background-color: var(--bg-color);\n",
              "    border: none;\n",
              "    border-radius: 50%;\n",
              "    cursor: pointer;\n",
              "    display: none;\n",
              "    fill: var(--fill-color);\n",
              "    height: 32px;\n",
              "    padding: 0;\n",
              "    width: 32px;\n",
              "  }\n",
              "\n",
              "  .colab-df-quickchart:hover {\n",
              "    background-color: var(--hover-bg-color);\n",
              "    box-shadow: 0 1px 2px rgba(60, 64, 67, 0.3), 0 1px 3px 1px rgba(60, 64, 67, 0.15);\n",
              "    fill: var(--button-hover-fill-color);\n",
              "  }\n",
              "\n",
              "  .colab-df-quickchart-complete:disabled,\n",
              "  .colab-df-quickchart-complete:disabled:hover {\n",
              "    background-color: var(--disabled-bg-color);\n",
              "    fill: var(--disabled-fill-color);\n",
              "    box-shadow: none;\n",
              "  }\n",
              "\n",
              "  .colab-df-spinner {\n",
              "    border: 2px solid var(--fill-color);\n",
              "    border-color: transparent;\n",
              "    border-bottom-color: var(--fill-color);\n",
              "    animation:\n",
              "      spin 1s steps(1) infinite;\n",
              "  }\n",
              "\n",
              "  @keyframes spin {\n",
              "    0% {\n",
              "      border-color: transparent;\n",
              "      border-bottom-color: var(--fill-color);\n",
              "      border-left-color: var(--fill-color);\n",
              "    }\n",
              "    20% {\n",
              "      border-color: transparent;\n",
              "      border-left-color: var(--fill-color);\n",
              "      border-top-color: var(--fill-color);\n",
              "    }\n",
              "    30% {\n",
              "      border-color: transparent;\n",
              "      border-left-color: var(--fill-color);\n",
              "      border-top-color: var(--fill-color);\n",
              "      border-right-color: var(--fill-color);\n",
              "    }\n",
              "    40% {\n",
              "      border-color: transparent;\n",
              "      border-right-color: var(--fill-color);\n",
              "      border-top-color: var(--fill-color);\n",
              "    }\n",
              "    60% {\n",
              "      border-color: transparent;\n",
              "      border-right-color: var(--fill-color);\n",
              "    }\n",
              "    80% {\n",
              "      border-color: transparent;\n",
              "      border-right-color: var(--fill-color);\n",
              "      border-bottom-color: var(--fill-color);\n",
              "    }\n",
              "    90% {\n",
              "      border-color: transparent;\n",
              "      border-bottom-color: var(--fill-color);\n",
              "    }\n",
              "  }\n",
              "</style>\n",
              "\n",
              "  <script>\n",
              "    async function quickchart(key) {\n",
              "      const quickchartButtonEl =\n",
              "        document.querySelector('#' + key + ' button');\n",
              "      quickchartButtonEl.disabled = true;  // To prevent multiple clicks.\n",
              "      quickchartButtonEl.classList.add('colab-df-spinner');\n",
              "      try {\n",
              "        const charts = await google.colab.kernel.invokeFunction(\n",
              "            'suggestCharts', [key], {});\n",
              "      } catch (error) {\n",
              "        console.error('Error during call to suggestCharts:', error);\n",
              "      }\n",
              "      quickchartButtonEl.classList.remove('colab-df-spinner');\n",
              "      quickchartButtonEl.classList.add('colab-df-quickchart-complete');\n",
              "    }\n",
              "    (() => {\n",
              "      let quickchartButtonEl =\n",
              "        document.querySelector('#df-4383bcda-eaa8-4ece-b597-0671f1520df9 button');\n",
              "      quickchartButtonEl.style.display =\n",
              "        google.colab.kernel.accessAllowed ? 'block' : 'none';\n",
              "    })();\n",
              "  </script>\n",
              "</div>\n",
              "\n",
              "    </div>\n",
              "  </div>\n"
            ],
            "application/vnd.google.colaboratory.intrinsic+json": {
              "type": "dataframe",
              "summary": "{\n  \"name\": \"# Conclus\\u00e3o: N\\u00e3o foi identificado nenhum valor fora da normalidade\",\n  \"rows\": 8,\n  \"fields\": [\n    {\n      \"column\": \"Hours Studied\",\n      \"properties\": {\n        \"dtype\": \"number\",\n        \"std\": 1761.1733297890148,\n        \"min\": 1.0,\n        \"max\": 4986.0,\n        \"num_unique_values\": 8,\n        \"samples\": [\n          4.979542719614922,\n          5.0,\n          4986.0\n        ],\n        \"semantic_type\": \"\",\n        \"description\": \"\"\n      }\n    },\n    {\n      \"column\": \"Previous Scores\",\n      \"properties\": {\n        \"dtype\": \"number\",\n        \"std\": 1741.1525938340396,\n        \"min\": 17.31463416579859,\n        \"max\": 4986.0,\n        \"num_unique_values\": 8,\n        \"samples\": [\n          69.27757721620537,\n          69.0,\n          4986.0\n        ],\n        \"semantic_type\": \"\",\n        \"description\": \"\"\n      }\n    },\n    {\n      \"column\": \"Extracurricular Activities\",\n      \"properties\": {\n        \"dtype\": \"number\",\n        \"std\": 1762.817205498063,\n        \"min\": 0.0,\n        \"max\": 4986.0,\n        \"num_unique_values\": 2,\n        \"samples\": [\n          0.0,\n          4986.0\n        ],\n        \"semantic_type\": \"\",\n        \"description\": \"\"\n      }\n    },\n    {\n      \"column\": \"Sleep Hours\",\n      \"properties\": {\n        \"dtype\": \"number\",\n        \"std\": 1760.73398792226,\n        \"min\": 1.7038896692015815,\n        \"max\": 4986.0,\n        \"num_unique_values\": 8,\n        \"samples\": [\n          6.572001604492579,\n          7.0\n        ],\n        \"semantic_type\": \"\",\n        \"description\": \"\"\n      }\n    },\n    {\n      \"column\": \"Sample Question Papers Practiced\",\n      \"properties\": {\n        \"dtype\": \"number\",\n        \"std\": 1761.2827971138859,\n        \"min\": 0.0,\n        \"max\": 4986.0,\n        \"num_unique_values\": 8,\n        \"samples\": [\n          4.5437224227837945,\n          5.0\n        ],\n        \"semantic_type\": \"\",\n        \"description\": \"\"\n      }\n    },\n    {\n      \"column\": \"Performance Index\",\n      \"properties\": {\n        \"dtype\": \"number\",\n        \"std\": 1745.4722997025754,\n        \"min\": 10.0,\n        \"max\": 4986.0,\n        \"num_unique_values\": 8,\n        \"samples\": [\n          54.7208182912154,\n          55.0\n        ],\n        \"semantic_type\": \"\",\n        \"description\": \"\"\n      }\n    }\n  ]\n}"
            }
          },
          "metadata": {},
          "execution_count": 13
        }
      ]
    },
    {
      "cell_type": "markdown",
      "source": [
        "**Conclusão:** Não foi identificado nenhum valor fora da normalidade"
      ],
      "metadata": {
        "id": "mADGCdSqHN5k"
      }
    },
    {
      "cell_type": "code",
      "source": [
        "# selecionando o target df_total\n",
        "target = 'Performance Index'\n",
        "\n",
        "# lista apenas com os nomes das variáveis numéricas\n",
        "num_vars = [col for col in df_total.columns if col not in [target]]\n",
        "\n",
        "# separando a base em treino e teste\n",
        "# nesse momento iremos utilizar somente as variáveis numéricas\n",
        "X = df_total.filter(num_vars).copy()\n",
        "y = df_total['Performance Index'].copy()\n",
        "\n",
        "# selecionando treino e teste\n",
        "X_train, X_test, y_train, y_test = train_test_split(X, y, train_size=0.8, random_state=30)"
      ],
      "metadata": {
        "id": "9ZltfprhwhY9"
      },
      "execution_count": null,
      "outputs": []
    },
    {
      "cell_type": "code",
      "source": [
        "# selecionando o target df_atvd_curric\n",
        "target = 'Performance Index'\n",
        "\n",
        "# lista apenas com os nomes das variáveis numéricas\n",
        "num_vars = [col for col in df_atvd_curric.columns if col not in [target]]\n",
        "\n",
        "# separando a base em treino e teste\n",
        "# nesse momento iremos utilizar somente as variáveis numéricas\n",
        "X_atvd = df_atvd_curric.filter(num_vars).copy()\n",
        "y_atvd = df_atvd_curric['Performance Index'].copy()\n",
        "\n",
        "# selecionando treino e teste\n",
        "X_train_atvd, X_test_atvd, y_train_atvd, y_test_atvd = train_test_split(X_atvd, y_atvd, train_size=0.8, random_state=30)"
      ],
      "metadata": {
        "id": "GUcO4xHkgvmd"
      },
      "execution_count": null,
      "outputs": []
    },
    {
      "cell_type": "code",
      "source": [
        "# selecionando o target df_natvd_curric\n",
        "target = 'Performance Index'\n",
        "\n",
        "# lista apenas com os nomes das variáveis numéricas\n",
        "num_vars = [col for col in df_natvd_curric.columns if col not in [target]]\n",
        "\n",
        "# separando a base em treino e teste\n",
        "# nesse momento iremos utilizar somente as variáveis numéricas\n",
        "X_natvd = df_natvd_curric.filter(num_vars).copy()\n",
        "y_natvd = df_natvd_curric['Performance Index'].copy()\n",
        "\n",
        "# selecionando treino e teste\n",
        "X_train_natvd, X_test_natvd, y_train_natvd, y_test_natvd = train_test_split(X_natvd, y_natvd, train_size=0.8, random_state=30)"
      ],
      "metadata": {
        "id": "0docZW_DgwQs"
      },
      "execution_count": null,
      "outputs": []
    },
    {
      "cell_type": "markdown",
      "source": [
        "## **APLICANDO REGRESSÃO LINEAR MÚLTIPLA**\n"
      ],
      "metadata": {
        "id": "rdV8qqNe1ZeF"
      }
    },
    {
      "cell_type": "code",
      "source": [
        "# instalando o pacote feature-engine\n",
        "!pip install feature-engine"
      ],
      "metadata": {
        "colab": {
          "base_uri": "https://localhost:8080/"
        },
        "id": "nt6I8IRFQmHs",
        "outputId": "2c7638f0-3076-4b16-ad3e-661d0158c923"
      },
      "execution_count": null,
      "outputs": [
        {
          "output_type": "stream",
          "name": "stdout",
          "text": [
            "Collecting feature-engine\n",
            "  Downloading feature_engine-1.8.2-py2.py3-none-any.whl.metadata (9.9 kB)\n",
            "Requirement already satisfied: numpy>=1.18.2 in /usr/local/lib/python3.11/dist-packages (from feature-engine) (1.26.4)\n",
            "Requirement already satisfied: pandas>=2.2.0 in /usr/local/lib/python3.11/dist-packages (from feature-engine) (2.2.2)\n",
            "Requirement already satisfied: scikit-learn>=1.4.0 in /usr/local/lib/python3.11/dist-packages (from feature-engine) (1.6.0)\n",
            "Requirement already satisfied: scipy>=1.4.1 in /usr/local/lib/python3.11/dist-packages (from feature-engine) (1.13.1)\n",
            "Requirement already satisfied: statsmodels>=0.11.1 in /usr/local/lib/python3.11/dist-packages (from feature-engine) (0.14.4)\n",
            "Requirement already satisfied: python-dateutil>=2.8.2 in /usr/local/lib/python3.11/dist-packages (from pandas>=2.2.0->feature-engine) (2.8.2)\n",
            "Requirement already satisfied: pytz>=2020.1 in /usr/local/lib/python3.11/dist-packages (from pandas>=2.2.0->feature-engine) (2024.2)\n",
            "Requirement already satisfied: tzdata>=2022.7 in /usr/local/lib/python3.11/dist-packages (from pandas>=2.2.0->feature-engine) (2024.2)\n",
            "Requirement already satisfied: joblib>=1.2.0 in /usr/local/lib/python3.11/dist-packages (from scikit-learn>=1.4.0->feature-engine) (1.4.2)\n",
            "Requirement already satisfied: threadpoolctl>=3.1.0 in /usr/local/lib/python3.11/dist-packages (from scikit-learn>=1.4.0->feature-engine) (3.5.0)\n",
            "Requirement already satisfied: patsy>=0.5.6 in /usr/local/lib/python3.11/dist-packages (from statsmodels>=0.11.1->feature-engine) (1.0.1)\n",
            "Requirement already satisfied: packaging>=21.3 in /usr/local/lib/python3.11/dist-packages (from statsmodels>=0.11.1->feature-engine) (24.2)\n",
            "Requirement already satisfied: six>=1.5 in /usr/local/lib/python3.11/dist-packages (from python-dateutil>=2.8.2->pandas>=2.2.0->feature-engine) (1.17.0)\n",
            "Downloading feature_engine-1.8.2-py2.py3-none-any.whl (374 kB)\n",
            "\u001b[2K   \u001b[90m━━━━━━━━━━━━━━━━━━━━━━━━━━━━━━━━━━━━━━━━\u001b[0m \u001b[32m375.0/375.0 kB\u001b[0m \u001b[31m5.5 MB/s\u001b[0m eta \u001b[36m0:00:00\u001b[0m\n",
            "\u001b[?25hInstalling collected packages: feature-engine\n",
            "Successfully installed feature-engine-1.8.2\n"
          ]
        }
      ]
    },
    {
      "cell_type": "code",
      "source": [
        "# definição um pipeline de pré-processamento e modelagem da regessão linear\n",
        "\n",
        "preprocessor = ColumnTransformer(transformers=[\n",
        "    ('num', Pipeline([\n",
        "        ('imputer', SimpleImputer(strategy='median')),\n",
        "        ('scaler', StandardScaler())\n",
        "    ]), num_vars)\n",
        "])\n",
        "\n",
        "model = Pipeline(steps=[\n",
        "    ('preprocessor', preprocessor),\n",
        "    ('lr', LinearRegression())\n",
        "])"
      ],
      "metadata": {
        "id": "o_2CVE9WS_kP"
      },
      "execution_count": null,
      "outputs": []
    },
    {
      "cell_type": "code",
      "source": [
        "# Treinamento do modelo geral\n",
        "\n",
        "model.fit(X_train, y_train)\n",
        "y_previsto = model.predict(X_test)\n",
        "y_esperado = y_test.copy()"
      ],
      "metadata": {
        "id": "F8Wut0FafR_v"
      },
      "execution_count": null,
      "outputs": []
    },
    {
      "cell_type": "code",
      "source": [
        "# Treinamento do modelo com atividades extracurriculares\n",
        "\n",
        "model.fit(X_train_atvd, y_train_atvd)\n",
        "y_previsto_atvd = model.predict(X_test_atvd)\n",
        "y_esperado_atvd = y_test_atvd.copy()"
      ],
      "metadata": {
        "id": "b9Nv0y-Phf8x"
      },
      "execution_count": null,
      "outputs": []
    },
    {
      "cell_type": "code",
      "source": [
        "# Treinamento do modelo sem atividades extracurriculares\n",
        "\n",
        "model.fit(X_train_natvd, y_train_natvd)\n",
        "y_previsto_natvd = model.predict(X_test_natvd)\n",
        "y_esperado_natvd = y_test_natvd.copy()"
      ],
      "metadata": {
        "id": "ik0iFziEhiNZ"
      },
      "execution_count": null,
      "outputs": []
    },
    {
      "cell_type": "code",
      "source": [
        "# Gráfico para anlisar a dispersão dos dados\n",
        "\n",
        "fig, ax = plt.subplots(nrows=1, ncols=3, figsize=(18,6))\n",
        "\n",
        "sns.regplot(x=y_esperado, y=y_previsto, label='Total', ax=ax[0], color='red');\n",
        "sns.regplot(x=y_esperado_atvd, y=y_previsto_atvd, label='Com Atividade Complementar', ax=ax[1], color='green');\n",
        "sns.regplot(x=y_esperado_natvd, y=y_previsto_natvd, label='Sem Atividade Complementar', ax=ax[2], color='blue');\n",
        "ax[0].legend();\n",
        "ax[1].legend();\n",
        "ax[2].legend();"
      ],
      "metadata": {
        "colab": {
          "base_uri": "https://localhost:8080/",
          "height": 542
        },
        "id": "h9fzyVpKhbHi",
        "outputId": "f728e89d-83ad-4be6-d43c-d556195142f3"
      },
      "execution_count": null,
      "outputs": [
        {
          "output_type": "display_data",
          "data": {
            "text/plain": [
              "<Figure size 1800x600 with 3 Axes>"
            ],
            "image/png": "[encoded data removed]"
          },
          "metadata": {}
        }
      ]
    },
    {
      "cell_type": "markdown",
      "source": [
        "**Conclusão:** Não há valores muito dispersos da média."
      ],
      "metadata": {
        "id": "-gLfz5c9HgfW"
      }
    },
    {
      "cell_type": "markdown",
      "source": [
        "## **MÉTRICAS DE AVALIAÇÃO**"
      ],
      "metadata": {
        "id": "Y2L2iRZR1q_J"
      }
    },
    {
      "cell_type": "markdown",
      "source": [
        "As métricas de avaliação podem ser afetadas pelos outliers causando desproporcionalidade. Portanto, vamos avaliar os dados com boxplots para identificar pontos discrepantes e, se necesssário, realizarmos o tratamento adequado para cada situação."
      ],
      "metadata": {
        "id": "UFAnbl7o2D02"
      }
    },
    {
      "cell_type": "code",
      "source": [
        "fig, ax = plt.subplots(nrows=1, ncols=3, figsize=(18,2))\n",
        "\n",
        "sns.boxplot(x=y_esperado, label='Total', ax=ax[0]);\n",
        "sns.boxplot(x=y_esperado_atvd, label='Com Atividade Complementar', ax=ax[1]);\n",
        "sns.boxplot(x=y_esperado_natvd, label='Sem Atividade Complementar', ax=ax[2]);"
      ],
      "metadata": {
        "colab": {
          "base_uri": "https://localhost:8080/",
          "height": 234
        },
        "id": "ngSqBoetTgQ-",
        "outputId": "63289aa5-93de-4094-9dde-98b29a933680"
      },
      "execution_count": null,
      "outputs": [
        {
          "output_type": "display_data",
          "data": {
            "text/plain": [
              "<Figure size 1800x200 with 3 Axes>"
            ],
            "image/png": "[encoded data removed]"
          },
          "metadata": {}
        }
      ]
    },
    {
      "cell_type": "markdown",
      "source": [
        "**Conclusão:** Não há outiliers a serem tratados"
      ],
      "metadata": {
        "id": "akUK-pxhHoJI"
      }
    },
    {
      "cell_type": "markdown",
      "source": [
        "### R2 e R2 Ajustado\n",
        "\n",
        "O **Coeficiente de Determinação (R2)** mede a quanto da variável dependente que estamos tentando prever é explicada pelas variáveis independentes que estamos usando no modelo.\n",
        "\n",
        "Quanto mais próximo de 1 (um), maior a explicabilidade do modelo.\n",
        "\n",
        "Se R2 for igual a 0 (zero), significa que o modelo não explica nada.\n",
        "\n",
        "\n",
        "* **CUIDADO:** Quando adicionado uma nova variável ao modelo, o R2 pode indicar uma falsa impressão de melhora no modelo."
      ],
      "metadata": {
        "id": "s933Db7-3-PN"
      }
    },
    {
      "cell_type": "code",
      "source": [
        "r2_total = r2_score(y_esperado, y_previsto)\n",
        "r2_atvd = r2_score(y_esperado_atvd, y_previsto_atvd)\n",
        "r2_natvd = r2_score(y_esperado_natvd, y_previsto_natvd)\n",
        "\n",
        "print('R2 Total:', '{:.2f}%'.format(r2_total * 100))\n",
        "print('R2 com Atividade Complementar:', '{:.2f}%'.format(r2_atvd * 100))\n",
        "print('R2 sem Atividade Complementar:', '{:.2f}%'.format(r2_natvd * 100))"
      ],
      "metadata": {
        "colab": {
          "base_uri": "https://localhost:8080/"
        },
        "id": "2mZTPn_IU3sQ",
        "outputId": "fba3a5c3-fac4-43a3-a0eb-ee20b3139c8a"
      },
      "execution_count": null,
      "outputs": [
        {
          "output_type": "stream",
          "name": "stdout",
          "text": [
            "R2 Total: 98.82%\n",
            "R2 com Atividade Complementar: 98.91%\n",
            "R2 sem Atividade Complementar: 98.85%\n"
          ]
        }
      ]
    },
    {
      "cell_type": "markdown",
      "source": [
        "O Coeficiente de Determinação Ajustado (R2 Ajustado) também mede a quanto da variável dependente que estamos tentando prever é explicada pelas variáveis independentes que estamos usando no modelo. Porém, quando adicionado uma npva variável, ele é capaz de avaliar se ela realmente melhora o modelo.\n",
        "\n",
        "Quanto mais próximo de 1 (um), maior a explicabilidade do modelo.\n",
        "\n",
        "Se R2 for igual a 0 (zero), significa que o modelo não explica nada."
      ],
      "metadata": {
        "id": "CfPNk7Ci6TnF"
      }
    },
    {
      "cell_type": "code",
      "source": [
        "# Criação de função para cálculo do R2 ajustado\n",
        "\n",
        "def adjusted_r2(y_esperado, y_previsto, X_treino):\n",
        "  R2 = r2_score(y_esperado, y_previsto)\n",
        "  N = len(y_esperado)\n",
        "  p = X_treino.shape[1]\n",
        "\n",
        "  r2_ajustado = (1 - ((1 - R2) * (N - 1)) / (N - p - 1))\n",
        "  return r2_ajustado"
      ],
      "metadata": {
        "id": "5ouzTnn8VGXS"
      },
      "execution_count": null,
      "outputs": []
    },
    {
      "cell_type": "code",
      "source": [
        "r2_ajustado = adjusted_r2(y_esperado, y_previsto, X_train)\n",
        "r2_ajustado_com_atvd_compl = adjusted_r2(y_esperado_atvd, y_previsto_atvd, X_train_atvd)\n",
        "r2_ajustado_sem_atvd_compl = adjusted_r2(y_esperado_natvd, y_previsto_natvd, X_train_natvd)\n",
        "\n",
        "\n",
        "print('R2 Ajustado Total:', '{:.2f}%'.format(r2_ajustado * 100))\n",
        "print('R2 Ajustado com Atividade Complementar:', '{:.2f}%'.format(r2_ajustado_com_atvd_compl * 100))\n",
        "print('R2 Ajustado sem Atividade Complementar:', '{:.2f}%'.format(r2_ajustado_sem_atvd_compl * 100))"
      ],
      "metadata": {
        "colab": {
          "base_uri": "https://localhost:8080/"
        },
        "id": "77gmt29mVLSM",
        "outputId": "29b86451-5aa6-49ee-af02-dabeab84c5fd"
      },
      "execution_count": null,
      "outputs": [
        {
          "output_type": "stream",
          "name": "stdout",
          "text": [
            "R2 Ajustado Total: 98.82%\n",
            "R2 Ajustado com Atividade Complementar: 98.90%\n",
            "R2 Ajustado sem Atividade Complementar: 98.84%\n"
          ]
        }
      ]
    },
    {
      "cell_type": "markdown",
      "source": [
        "**Resultado:**\n",
        "\n",
        "A explicabilidade do modelo está excelente, gira em torno de 99%."
      ],
      "metadata": {
        "id": "titAU50PAMgl"
      }
    },
    {
      "cell_type": "markdown",
      "source": [
        "# MAE\n",
        "\n",
        "O **Mean Absolute Error** (ou, Erro Absoluto Médio) mede o quanto as previsões do modelo, em média, estão se afastando dos valores reais.\n",
        "\n",
        "Quanto menor for o MAE, melhor o modelo estará performando.\n",
        "Isso significa que os erros médios são pequenos.\n",
        "\n",
        "* **CUIDADO:** Essa métrica não é tão sensível a grandes erros. Isso pode ser uma vantagem ou uma limitação dependendo do caso."
      ],
      "metadata": {
        "id": "8icb5gcb4KNN"
      }
    },
    {
      "cell_type": "code",
      "source": [
        "mae = mean_absolute_error(y_esperado, y_previsto)\n",
        "mae_com_atvd_compl = mean_absolute_error(y_esperado_atvd, y_previsto_atvd)\n",
        "mae_sem_atvd_compl = mean_absolute_error(y_esperado_natvd, y_previsto_natvd)\n",
        "\n",
        "print('MAE Total:', '{:.4f}'.format(mae))\n",
        "print('MAE com Atividade Complementar:', '{:.4f}'.format(mae_com_atvd_compl))\n",
        "print('MAE sem Atividade Complementar:', '{:.4f}'.format(mae_sem_atvd_compl))"
      ],
      "metadata": {
        "colab": {
          "base_uri": "https://localhost:8080/"
        },
        "id": "BQHu6OiEVNsS",
        "outputId": "df138b97-351a-4863-c0c4-ee6189801faf"
      },
      "execution_count": null,
      "outputs": [
        {
          "output_type": "stream",
          "name": "stdout",
          "text": [
            "MAE Total: 1.6217\n",
            "MAE com Atividade Complementar: 1.5899\n",
            "MAE sem Atividade Complementar: 1.5929\n"
          ]
        }
      ]
    },
    {
      "cell_type": "markdown",
      "source": [
        "**Resultado:**\n",
        "\n",
        "O modelo erra em média 1.6 na previsão do índice de desempenhos dos alunos."
      ],
      "metadata": {
        "id": "Il1eZmhc_8HJ"
      }
    },
    {
      "cell_type": "markdown",
      "source": [
        "# MSE\n",
        "\n",
        "O **Mean Square Error** (ou, Erro Quadrático Médio) mede o quanto as previsões do modelo, em média quadrática, estão se afastando dos valores reais.\n",
        "Nessa métrica os erros maiores tem maior peso devido a elevação quadrática.\n",
        "\n",
        "Quanto menor for o MSE, melhor o modelo estará performando.\n",
        "\n",
        "Essa métrica é muito útil porque a derivada do quadrado é contínua."
      ],
      "metadata": {
        "id": "j96Y_mOP-aNe"
      }
    },
    {
      "cell_type": "code",
      "source": [
        "mse = mean_squared_error(y_esperado, y_previsto)\n",
        "mse_com_atvd_compl = mean_squared_error(y_esperado_atvd, y_previsto_atvd)\n",
        "mse_sem_atvd_compl = mean_squared_error(y_esperado_natvd, y_previsto_natvd)\n",
        "\n",
        "print('MSE Total:', '{:.4f}'.format(mse))\n",
        "print('MSE com Atividade Complementar::', '{:.4f}'.format(mse_com_atvd_compl))\n",
        "print('MSE sem Atividade Complementar::', '{:.4f}'.format(mse_sem_atvd_compl))"
      ],
      "metadata": {
        "colab": {
          "base_uri": "https://localhost:8080/"
        },
        "id": "-wYxEGvqVRNs",
        "outputId": "7a8516c8-7d8b-4d48-ca1c-f8e2b7a57dc3"
      },
      "execution_count": null,
      "outputs": [
        {
          "output_type": "stream",
          "name": "stdout",
          "text": [
            "MSE Total: 4.1534\n",
            "MSE com Atividade Complementar:: 4.0232\n",
            "MSE sem Atividade Complementar:: 4.0312\n"
          ]
        }
      ]
    },
    {
      "cell_type": "markdown",
      "source": [
        "**Resultado:**\n",
        "\n",
        "Em média, o quadrado do erro do modelo está em torno de 4 pontos na previsão do índice de desempenhos dos alunos."
      ],
      "metadata": {
        "id": "mt27bsOp_j_7"
      }
    },
    {
      "cell_type": "markdown",
      "source": [
        "# RMSE\n",
        "\n",
        "O **Root Mean Square Error** (ou, Raiz do Erro Quadrático Médio) mede o quanto as previsões do modelo, em raiz quadrática, estão se afastando dos valores reais.\n",
        "\n",
        "A diferença entre MSE e RMSE é que a última métrica é mais fácil de interpretar já que retorna à unidade original da variável.\n",
        "\n",
        "Quanto menor for o RMSE, melhor o modelo estará performando."
      ],
      "metadata": {
        "id": "mGK2_-FkAZBS"
      }
    },
    {
      "cell_type": "code",
      "source": [
        "# Cálculo utilizando a raiz quadrada do MSE já definido anteriormente\n",
        "\n",
        "rmse = np.sqrt(mse)\n",
        "rmse_com_atvd_compl = np.sqrt(mse_com_atvd_compl)\n",
        "rmse_sem_atvd_compl = np.sqrt(mse_sem_atvd_compl)\n",
        "\n",
        "print('RMSE Total:', '{:.4f}'.format(rmse))\n",
        "print('RMSE com Atividade Complementar:', '{:.4f}'.format(rmse_com_atvd_compl))\n",
        "print('RMSE sem Atividade Complementar:', '{:.4f}'.format(rmse_sem_atvd_compl))"
      ],
      "metadata": {
        "id": "wllhYa_rVVg5",
        "colab": {
          "base_uri": "https://localhost:8080/"
        },
        "outputId": "8c482746-6a4a-4576-9a8b-6bee51747c02"
      },
      "execution_count": null,
      "outputs": [
        {
          "output_type": "stream",
          "name": "stdout",
          "text": [
            "RMSE Total: 2.0380\n",
            "RMSE com Atividade Complementar: 2.0058\n",
            "RMSE sem Atividade Complementar: 2.0078\n"
          ]
        }
      ]
    },
    {
      "cell_type": "markdown",
      "source": [
        "**Resultado:**\n",
        "\n",
        "Em média, o modelo erra em torno de 2 pontos na previsão do índice de desempenhos dos alunos."
      ],
      "metadata": {
        "id": "EuIIDhHBBvsm"
      }
    },
    {
      "cell_type": "markdown",
      "source": [
        "# RMSLE\n",
        "\n",
        "O **Root Mean Square Logarithmic Error** (ou, Raiz do Erro Quadrático Médio Logarítimo) mede o quanto as previsões do modelo, em raiz quadrática logarítimica, estão se afastando dos valores reais.\n",
        "\n",
        "Essa métrica é especialmente útil quando você quer comparar as proporções ou taxa de crescimento entre valores reais e valores previstos.\n",
        "\n",
        "Quanto menor for o RMSLE, melhor o modelo estará performando.\n",
        "\n",
        "* **CUIDADO:** Não é uma boa opção quando existem dados com valores negativos já que os logatirimos só são definidos por valores positivos"
      ],
      "metadata": {
        "id": "_nGYjXgQD-3R"
      }
    },
    {
      "cell_type": "code",
      "source": [
        "# Criar função para cálculo do RMSLE\n",
        "\n",
        "def calcular_rmsle(y_true, y_pred):\n",
        "    \"\"\"\n",
        "    Calcula o RMSLE (Root Mean Squared Logarithmic Error) manualmente.\n",
        "    \"\"\"\n",
        "    # Adicionar 1 aos valores para evitar problemas com log(0)\n",
        "    log_true = np.log(y_true + 1)\n",
        "    log_pred = np.log(y_pred + 1)\n",
        "\n",
        "    # Calcular o erro logarítmico quadrado\n",
        "    log_error_squared = (log_pred - log_true) ** 2\n",
        "\n",
        "    # Calcular a média do erro\n",
        "    mean_log_error = np.mean(log_error_squared)\n",
        "\n",
        "    # Retornar a raiz quadrada da média\n",
        "    return np.sqrt(mean_log_error)"
      ],
      "metadata": {
        "id": "22Ab75fjIHzL"
      },
      "execution_count": null,
      "outputs": []
    },
    {
      "cell_type": "code",
      "source": [
        "rmsle = calcular_rmsle(y_esperado, y_previsto)\n",
        "rmsle_com_atvd_compl = calcular_rmsle(y_esperado_atvd, y_previsto_atvd)\n",
        "rmsle_sem_atvd_compl = calcular_rmsle(y_esperado_natvd, y_previsto_natvd)\n",
        "\n",
        "print('RMSLE Total:', '{:.4f}'.format(rmsle))\n",
        "print('RMSLE com Atividade Complementar:', '{:.4f}'.format(rmsle_com_atvd_compl))\n",
        "print('RMSLE sem Atividade Complementar:', '{:.4f}'.format(rmsle_sem_atvd_compl))"
      ],
      "metadata": {
        "colab": {
          "base_uri": "https://localhost:8080/"
        },
        "id": "T_vvYLqfEOPx",
        "outputId": "7a5ebfcc-c365-40a1-e409-afd952d7790c"
      },
      "execution_count": null,
      "outputs": [
        {
          "output_type": "stream",
          "name": "stdout",
          "text": [
            "RMSLE Total: 0.0463\n",
            "RMSLE com Atividade Complementar: 0.0457\n",
            "RMSLE sem Atividade Complementar: 0.0460\n"
          ]
        }
      ]
    },
    {
      "cell_type": "markdown",
      "source": [
        "**Resultado:**\n",
        "\n",
        "Em média logarítima, o modelo erra em torno de 0,5 pontos na previsão do índice de desempenhos dos alunos."
      ],
      "metadata": {
        "id": "wbnKvlCgKKGi"
      }
    },
    {
      "cell_type": "markdown",
      "source": [
        "# Max Error\n",
        "\n",
        "O **Max Error** (ou, Erro Máximo) indica o maior erro absoluto entre os valores reais e valores previstos.\n",
        "\n",
        "Se o valor for muito alto, pode indicar que o modelo teve dificuldade com alguns casos específicos (possíveis outliers)\n",
        "\n",
        "* **CUIDADO:** Não reflete o desempenho geral do modelo, ele mostra apenas o pior caso!"
      ],
      "metadata": {
        "id": "6a5MwgX2I9JH"
      }
    },
    {
      "cell_type": "code",
      "source": [
        "maximo_error = max_error(y_esperado, y_previsto)\n",
        "maximo_error_com_atvd_compl = max_error(y_esperado_atvd, y_previsto_atvd)\n",
        "maximo_error_sem_atvd_compl = max_error(y_esperado_natvd, y_previsto_natvd)\n",
        "\n",
        "print('Max Error Total:', '{:.2f}'.format(maximo_error))\n",
        "print('Max Error com Atividade Complementar:', '{:.2f}'.format(maximo_error_com_atvd_compl))\n",
        "print('Max Error sem Atividade Complementar:', '{:.2f}'.format(maximo_error_sem_atvd_compl))"
      ],
      "metadata": {
        "colab": {
          "base_uri": "https://localhost:8080/"
        },
        "id": "0C7GXBd0EOK-",
        "outputId": "68563e2b-1c94-4737-c5c5-bec771d57e1c"
      },
      "execution_count": null,
      "outputs": [
        {
          "output_type": "stream",
          "name": "stdout",
          "text": [
            "Max Error Total: 7.24\n",
            "Max Error com Atividade Complementar: 6.59\n",
            "Max Error sem Atividade Complementar: 8.47\n"
          ]
        }
      ]
    },
    {
      "cell_type": "markdown",
      "source": [
        "**Resultado:**\n",
        "\n",
        "O erro máximo do modelo varia de 6 a 9 pontos na previsão do índice de desempenhos dos alunos."
      ],
      "metadata": {
        "id": "tgqsnwVtKRXJ"
      }
    },
    {
      "cell_type": "markdown",
      "source": [
        "# MedAE\n",
        "\n",
        "O **Median Absolute Error** (ou, Erro Absoluto Mediano) calcula a mediana dos erros absolutos entre valores reais e valores previstos.\n",
        "\n",
        "Essa métrica utiliza a mediana não gerando nenhuma interferência caso apareça algum outlier.\n",
        "\n",
        "Metade das previsões tem um erro absoluto menor ou igual ao MedAE, e a outra metade terá o erro absoluto maior ou igual ao MedAE."
      ],
      "metadata": {
        "id": "qqqmgCMxKafQ"
      }
    },
    {
      "cell_type": "code",
      "source": [
        "medae = median_absolute_error(y_esperado, y_previsto)\n",
        "medae_com_atvd_compl = median_absolute_error(y_esperado_atvd, y_previsto_atvd)\n",
        "medae_sem_atvd_compl = median_absolute_error(y_esperado_natvd, y_previsto_natvd)\n",
        "\n",
        "print('MedAE Total:', '{:.2f}'.format(medae))\n",
        "print('MedAE com Atividade Complementar:', '{:.2f}'.format(medae_com_atvd_compl))\n",
        "print('MedAE sem Atividade Complementar:', '{:.2f}'.format(medae_sem_atvd_compl))"
      ],
      "metadata": {
        "colab": {
          "base_uri": "https://localhost:8080/"
        },
        "id": "D8MfZwshEOGq",
        "outputId": "2d1c70e9-cb9e-4af5-98a9-1be7c4ae4dd0"
      },
      "execution_count": null,
      "outputs": [
        {
          "output_type": "stream",
          "name": "stdout",
          "text": [
            "MedAE Total: 1.35\n",
            "MedAE com Atividade Complementar: 1.31\n",
            "MedAE sem Atividade Complementar: 1.35\n"
          ]
        }
      ]
    },
    {
      "cell_type": "markdown",
      "source": [
        "**Resultado:**\n",
        "\n",
        "O erro absoluto mediano entre os valores reais e previsto é de 1 ponto na previsão do índice de desempenhos dos alunos."
      ],
      "metadata": {
        "id": "QgrNv8L9LoTv"
      }
    },
    {
      "cell_type": "markdown",
      "source": [
        "# MAPE\n",
        "\n",
        "O **Mean Absolute Percentage Error** (ou, Erro Percentual Absoluto Médio) calcula a média dos erros percentuais absolutos entre os valores reais e valores previstos.\n",
        "\n",
        "O resultado indica quantos porcentos o modelo errou nas suas previsões. Pode ser usado para comparar o desempenho de modelos em diferentes problemas.\n",
        "\n",
        "* **CUIDADO:** É sensível à valores pequenos e não lida bem com grandes variações."
      ],
      "metadata": {
        "id": "DYuJJcntKcHL"
      }
    },
    {
      "cell_type": "code",
      "source": [
        "mape = mean_absolute_percentage_error(y_esperado, y_previsto)\n",
        "mape_atvd = mean_absolute_percentage_error(y_esperado_atvd, y_previsto_atvd)\n",
        "mape_natvd = mean_absolute_percentage_error(y_esperado_natvd, y_previsto_natvd)\n",
        "\n",
        "print('MAPE Total:', '{:.2f}%'.format(mape * 100))\n",
        "print('MAPE com Atividade Complementar:', '{:.2f}%'.format(mape_atvd * 100))\n",
        "print('MAPE sem Atividade Complementar:', '{:.2f}%'.format(mape_natvd * 100))"
      ],
      "metadata": {
        "colab": {
          "base_uri": "https://localhost:8080/"
        },
        "id": "J8Wv1_qaEbt1",
        "outputId": "2c4cc758-95e4-42aa-f709-270f7da32138"
      },
      "execution_count": null,
      "outputs": [
        {
          "output_type": "stream",
          "name": "stdout",
          "text": [
            "MAPE Total: 3.48%\n",
            "MAPE com Atividade Complementar: 3.43%\n",
            "MAPE sem Atividade Complementar: 3.40%\n"
          ]
        }
      ]
    },
    {
      "cell_type": "markdown",
      "source": [
        "**Resultado:**\n",
        "\n",
        "O modelo errou cerca de 3,4% em relação aos valores reais do índice de desempenhos dos alunos."
      ],
      "metadata": {
        "id": "MBOdxuXuM-Jj"
      }
    },
    {
      "cell_type": "markdown",
      "source": [
        "# **COMPUTANDO TODAS AS MÉTRICAS DE AVALIAÇÃO PARA OS MODELOS**"
      ],
      "metadata": {
        "id": "i4CHKYNcBwD9"
      }
    },
    {
      "cell_type": "code",
      "source": [
        "# Métricas de avaliação avaliadas\n",
        "metrics = ['R2', 'R2 Ajustado', 'MAE', 'MSE', 'RMSE', 'RMSLE', 'Max Error', 'MedAE', 'MAPE']"
      ],
      "metadata": {
        "id": "99iBy5jiNf3F"
      },
      "execution_count": null,
      "outputs": []
    },
    {
      "cell_type": "code",
      "source": [
        "# Calcular as métricas para cada modelo\n",
        "results = {\n",
        "    'Modelo Geral': [\n",
        "        r2_total,\n",
        "        r2_ajustado,\n",
        "        mae,\n",
        "        mse,\n",
        "        rmse,\n",
        "        rmsle,\n",
        "        maximo_error,\n",
        "        medae,\n",
        "        mape\n",
        "    ],\n",
        "\n",
        "    'Modelo com Atvde ExtraCurric': [\n",
        "        r2_atvd,\n",
        "        r2_ajustado_com_atvd_compl,\n",
        "        mae_com_atvd_compl,\n",
        "        mse_com_atvd_compl,\n",
        "        rmse_com_atvd_compl,\n",
        "        rmsle_com_atvd_compl,\n",
        "        maximo_error_com_atvd_compl,\n",
        "        medae_com_atvd_compl,\n",
        "        mape_atvd\n",
        "    ],\n",
        "\n",
        "    'Modelo sem Atvde ExtraCurric': [\n",
        "        r2_natvd,\n",
        "        r2_ajustado_sem_atvd_compl,\n",
        "        mae_sem_atvd_compl,\n",
        "        mse_sem_atvd_compl,\n",
        "        rmse_sem_atvd_compl,\n",
        "        rmsle_sem_atvd_compl,\n",
        "        maximo_error_sem_atvd_compl,\n",
        "        medae_sem_atvd_compl,\n",
        "        mape_natvd\n",
        "    ]\n",
        "}"
      ],
      "metadata": {
        "id": "QJ4kVD2iEOhM"
      },
      "execution_count": null,
      "outputs": []
    },
    {
      "cell_type": "code",
      "source": [
        "# Criando a tabela vazia\n",
        "table = []\n",
        "\n",
        "# Preenchendo a tabela com os dados dos resultados\n",
        "for metric in metrics:\n",
        "    table.append([metric] + [round(results[model][metrics.index(metric)], 4) for model in results])\n",
        "\n",
        "# Pega o resultado do valor de cada métrica para cada modelo:\n",
        "    # results[model]: pega a lista de resultados para cada modelo específico.\n",
        "    # metrics.index(metric): pega a posição dessa métrica na lista metrics.\n",
        "\n",
        "# Exibindo a tabela\n",
        "print(tabulate(table, headers=[\"Métrica\", \"Modelo Geral\", \"Modelo com Atvde ExtraCurric\", \"Modelo sem Atvde ExtraCurric\"], tablefmt=\"github\"))"
      ],
      "metadata": {
        "colab": {
          "base_uri": "https://localhost:8080/"
        },
        "id": "DAVEaLm0D7iW",
        "outputId": "3f32f39d-b614-4415-b252-d646fdaa1668"
      },
      "execution_count": null,
      "outputs": [
        {
          "output_type": "stream",
          "name": "stdout",
          "text": [
            "| Métrica     |   Modelo Geral |   Modelo com Atvde ExtraCurric |   Modelo sem Atvde ExtraCurric |\n",
            "|-------------|----------------|--------------------------------|--------------------------------|\n",
            "| R2          |         0.9882 |                         0.9891 |                         0.9885 |\n",
            "| R2 Ajustado |         0.9882 |                         0.989  |                         0.9884 |\n",
            "| MAE         |         1.6217 |                         1.5899 |                         1.5929 |\n",
            "| MSE         |         4.1534 |                         4.0232 |                         4.0312 |\n",
            "| RMSE        |         2.038  |                         2.0058 |                         2.0078 |\n",
            "| RMSLE       |         0.0463 |                         0.0457 |                         0.046  |\n",
            "| Max Error   |         7.2427 |                         6.5917 |                         8.4685 |\n",
            "| MedAE       |         1.3468 |                         1.312  |                         1.3535 |\n",
            "| MAPE        |         0.0348 |                         0.0343 |                         0.034  |\n"
          ]
        }
      ]
    },
    {
      "cell_type": "markdown",
      "source": [
        "### **Conclusão:**\n",
        "Os modelos estudados possuem performance muito semelhante.\n",
        "Porém se tivesse que escolher um dentre os três seria o \"Modelo Geral\" já que esse teve a melhor performance de todas e, também, por não possuir viés comportamental.\n"
      ],
      "metadata": {
        "id": "zIZVqiE1UQA8"
      }
    }
  ]
}