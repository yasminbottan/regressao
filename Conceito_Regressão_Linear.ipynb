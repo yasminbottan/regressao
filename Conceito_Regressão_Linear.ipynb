{
  "nbformat": 4,
  "nbformat_minor": 0,
  "metadata": {
    "colab": {
      "provenance": [],
      "authorship_tag": "ABX9TyPji1kRykTaLwt/ojimCrXZ",
      "include_colab_link": true
    },
    "kernelspec": {
      "name": "python3",
      "display_name": "Python 3"
    },
    "language_info": {
      "name": "python"
    }
  },
  "cells": [
    {
      "cell_type": "markdown",
      "metadata": {
        "id": "view-in-github",
        "colab_type": "text"
      },
      "source": [
        "<a href=\"https://colab.research.google.com/github/yasminbottan/regressao/blob/main/Conceito_Regress%C3%A3o_Linear.ipynb\" target=\"_parent\"><img src=\"https://colab.research.google.com/assets/colab-badge.svg\" alt=\"Open In Colab\"/></a>"
      ]
    },
    {
      "cell_type": "markdown",
      "source": [
        "# **REGRESSÃO LINEAR**"
      ],
      "metadata": {
        "id": "FYXlTOvxxsl2"
      }
    },
    {
      "cell_type": "markdown",
      "source": [
        "## **O que é?**\n",
        "\n",
        " É uma técnica estatística usada para entender a relação entre variáveis numéricas. Tem como objetivo prever o valor de uma variável resposta  considerando as outras variáveis disponíveis na base de dados."
      ],
      "metadata": {
        "id": "F7kX6N51x6XZ"
      }
    },
    {
      "cell_type": "markdown",
      "source": [
        "# **Exemplo: Marcas de Chocolate**\n",
        "\n",
        "Temos uma base com as vendas e gastos com publicidade das principais marcas de chocolate do Brasil.\n"
      ],
      "metadata": {
        "id": "yD2-N6IDzimR"
      }
    },
    {
      "cell_type": "code",
      "source": [
        "import pandas as pd\n",
        "\n",
        "df_marcas = pd.DataFrame(\n",
        "    {\n",
        "        'marca': ['Kopenhagem','Lindit','Cacau Show','Milka','Nestle','Lacta','Garoto'],\n",
        "        'gasto_publicidade': [131.3,92.4,60.4,55.7,40.2,29.0,11.6],\n",
        "        'vendas': [1929.2,1384.6,811.4,541.5,536.9,535.6,219.5]\n",
        "    }\n",
        ")\n",
        "\n",
        "df_marcas"
      ],
      "metadata": {
        "colab": {
          "base_uri": "https://localhost:8080/",
          "height": 269
        },
        "id": "HaMomZ7f0Lg-",
        "outputId": "e4e6cbce-6e52-47d9-c9e6-b82306b4d543"
      },
      "execution_count": null,
      "outputs": [
        {
          "output_type": "execute_result",
          "data": {
            "text/plain": [
              "        marca  gasto_publicidade  vendas\n",
              "0  Kopenhagem              131.3  1929.2\n",
              "1      Lindit               92.4  1384.6\n",
              "2  Cacau Show               60.4   811.4\n",
              "3       Milka               55.7   541.5\n",
              "4      Nestle               40.2   536.9\n",
              "5       Lacta               29.0   535.6\n",
              "6      Garoto               11.6   219.5"
            ],
            "text/html": [
              "\n",
              "  <div id=\"df-09596fd7-8cbb-4c57-bcd0-127f177f99ce\" class=\"colab-df-container\">\n",
              "    <div>\n",
              "<style scoped>\n",
              "    .dataframe tbody tr th:only-of-type {\n",
              "        vertical-align: middle;\n",
              "    }\n",
              "\n",
              "    .dataframe tbody tr th {\n",
              "        vertical-align: top;\n",
              "    }\n",
              "\n",
              "    .dataframe thead th {\n",
              "        text-align: right;\n",
              "    }\n",
              "</style>\n",
              "<table border=\"1\" class=\"dataframe\">\n",
              "  <thead>\n",
              "    <tr style=\"text-align: right;\">\n",
              "      <th></th>\n",
              "      <th>marca</th>\n",
              "      <th>gasto_publicidade</th>\n",
              "      <th>vendas</th>\n",
              "    </tr>\n",
              "  </thead>\n",
              "  <tbody>\n",
              "    <tr>\n",
              "      <th>0</th>\n",
              "      <td>Kopenhagem</td>\n",
              "      <td>131.3</td>\n",
              "      <td>1929.2</td>\n",
              "    </tr>\n",
              "    <tr>\n",
              "      <th>1</th>\n",
              "      <td>Lindit</td>\n",
              "      <td>92.4</td>\n",
              "      <td>1384.6</td>\n",
              "    </tr>\n",
              "    <tr>\n",
              "      <th>2</th>\n",
              "      <td>Cacau Show</td>\n",
              "      <td>60.4</td>\n",
              "      <td>811.4</td>\n",
              "    </tr>\n",
              "    <tr>\n",
              "      <th>3</th>\n",
              "      <td>Milka</td>\n",
              "      <td>55.7</td>\n",
              "      <td>541.5</td>\n",
              "    </tr>\n",
              "    <tr>\n",
              "      <th>4</th>\n",
              "      <td>Nestle</td>\n",
              "      <td>40.2</td>\n",
              "      <td>536.9</td>\n",
              "    </tr>\n",
              "    <tr>\n",
              "      <th>5</th>\n",
              "      <td>Lacta</td>\n",
              "      <td>29.0</td>\n",
              "      <td>535.6</td>\n",
              "    </tr>\n",
              "    <tr>\n",
              "      <th>6</th>\n",
              "      <td>Garoto</td>\n",
              "      <td>11.6</td>\n",
              "      <td>219.5</td>\n",
              "    </tr>\n",
              "  </tbody>\n",
              "</table>\n",
              "</div>\n",
              "    <div class=\"colab-df-buttons\">\n",
              "\n",
              "  <div class=\"colab-df-container\">\n",
              "    <button class=\"colab-df-convert\" onclick=\"convertToInteractive('df-09596fd7-8cbb-4c57-bcd0-127f177f99ce')\"\n",
              "            title=\"Convert this dataframe to an interactive table.\"\n",
              "            style=\"display:none;\">\n",
              "\n",
              "  <svg xmlns=\"http://www.w3.org/2000/svg\" height=\"24px\" viewBox=\"0 -960 960 960\">\n",
              "    <path d=\"M120-120v-720h720v720H120Zm60-500h600v-160H180v160Zm220 220h160v-160H400v160Zm0 220h160v-160H400v160ZM180-400h160v-160H180v160Zm440 0h160v-160H620v160ZM180-180h160v-160H180v160Zm440 0h160v-160H620v160Z\"/>\n",
              "  </svg>\n",
              "    </button>\n",
              "\n",
              "  <style>\n",
              "    .colab-df-container {\n",
              "      display:flex;\n",
              "      gap: 12px;\n",
              "    }\n",
              "\n",
              "    .colab-df-convert {\n",
              "      background-color: #E8F0FE;\n",
              "      border: none;\n",
              "      border-radius: 50%;\n",
              "      cursor: pointer;\n",
              "      display: none;\n",
              "      fill: #1967D2;\n",
              "      height: 32px;\n",
              "      padding: 0 0 0 0;\n",
              "      width: 32px;\n",
              "    }\n",
              "\n",
              "    .colab-df-convert:hover {\n",
              "      background-color: #E2EBFA;\n",
              "      box-shadow: 0px 1px 2px rgba(60, 64, 67, 0.3), 0px 1px 3px 1px rgba(60, 64, 67, 0.15);\n",
              "      fill: #174EA6;\n",
              "    }\n",
              "\n",
              "    .colab-df-buttons div {\n",
              "      margin-bottom: 4px;\n",
              "    }\n",
              "\n",
              "    [theme=dark] .colab-df-convert {\n",
              "      background-color: #3B4455;\n",
              "      fill: #D2E3FC;\n",
              "    }\n",
              "\n",
              "    [theme=dark] .colab-df-convert:hover {\n",
              "      background-color: #434B5C;\n",
              "      box-shadow: 0px 1px 3px 1px rgba(0, 0, 0, 0.15);\n",
              "      filter: drop-shadow(0px 1px 2px rgba(0, 0, 0, 0.3));\n",
              "      fill: #FFFFFF;\n",
              "    }\n",
              "  </style>\n",
              "\n",
              "    <script>\n",
              "      const buttonEl =\n",
              "        document.querySelector('#df-09596fd7-8cbb-4c57-bcd0-127f177f99ce button.colab-df-convert');\n",
              "      buttonEl.style.display =\n",
              "        google.colab.kernel.accessAllowed ? 'block' : 'none';\n",
              "\n",
              "      async function convertToInteractive(key) {\n",
              "        const element = document.querySelector('#df-09596fd7-8cbb-4c57-bcd0-127f177f99ce');\n",
              "        const dataTable =\n",
              "          await google.colab.kernel.invokeFunction('convertToInteractive',\n",
              "                                                    [key], {});\n",
              "        if (!dataTable) return;\n",
              "\n",
              "        const docLinkHtml = 'Like what you see? Visit the ' +\n",
              "          '<a target=\"_blank\" href=https://colab.research.google.com/notebooks/data_table.ipynb>data table notebook</a>'\n",
              "          + ' to learn more about interactive tables.';\n",
              "        element.innerHTML = '';\n",
              "        dataTable['output_type'] = 'display_data';\n",
              "        await google.colab.output.renderOutput(dataTable, element);\n",
              "        const docLink = document.createElement('div');\n",
              "        docLink.innerHTML = docLinkHtml;\n",
              "        element.appendChild(docLink);\n",
              "      }\n",
              "    </script>\n",
              "  </div>\n",
              "\n",
              "\n",
              "<div id=\"df-4a2d39b6-03a2-4055-85a5-c267a6ab6444\">\n",
              "  <button class=\"colab-df-quickchart\" onclick=\"quickchart('df-4a2d39b6-03a2-4055-85a5-c267a6ab6444')\"\n",
              "            title=\"Suggest charts\"\n",
              "            style=\"display:none;\">\n",
              "\n",
              "<svg xmlns=\"http://www.w3.org/2000/svg\" height=\"24px\"viewBox=\"0 0 24 24\"\n",
              "     width=\"24px\">\n",
              "    <g>\n",
              "        <path d=\"M19 3H5c-1.1 0-2 .9-2 2v14c0 1.1.9 2 2 2h14c1.1 0 2-.9 2-2V5c0-1.1-.9-2-2-2zM9 17H7v-7h2v7zm4 0h-2V7h2v10zm4 0h-2v-4h2v4z\"/>\n",
              "    </g>\n",
              "</svg>\n",
              "  </button>\n",
              "\n",
              "<style>\n",
              "  .colab-df-quickchart {\n",
              "      --bg-color: #E8F0FE;\n",
              "      --fill-color: #1967D2;\n",
              "      --hover-bg-color: #E2EBFA;\n",
              "      --hover-fill-color: #174EA6;\n",
              "      --disabled-fill-color: #AAA;\n",
              "      --disabled-bg-color: #DDD;\n",
              "  }\n",
              "\n",
              "  [theme=dark] .colab-df-quickchart {\n",
              "      --bg-color: #3B4455;\n",
              "      --fill-color: #D2E3FC;\n",
              "      --hover-bg-color: #434B5C;\n",
              "      --hover-fill-color: #FFFFFF;\n",
              "      --disabled-bg-color: #3B4455;\n",
              "      --disabled-fill-color: #666;\n",
              "  }\n",
              "\n",
              "  .colab-df-quickchart {\n",
              "    background-color: var(--bg-color);\n",
              "    border: none;\n",
              "    border-radius: 50%;\n",
              "    cursor: pointer;\n",
              "    display: none;\n",
              "    fill: var(--fill-color);\n",
              "    height: 32px;\n",
              "    padding: 0;\n",
              "    width: 32px;\n",
              "  }\n",
              "\n",
              "  .colab-df-quickchart:hover {\n",
              "    background-color: var(--hover-bg-color);\n",
              "    box-shadow: 0 1px 2px rgba(60, 64, 67, 0.3), 0 1px 3px 1px rgba(60, 64, 67, 0.15);\n",
              "    fill: var(--button-hover-fill-color);\n",
              "  }\n",
              "\n",
              "  .colab-df-quickchart-complete:disabled,\n",
              "  .colab-df-quickchart-complete:disabled:hover {\n",
              "    background-color: var(--disabled-bg-color);\n",
              "    fill: var(--disabled-fill-color);\n",
              "    box-shadow: none;\n",
              "  }\n",
              "\n",
              "  .colab-df-spinner {\n",
              "    border: 2px solid var(--fill-color);\n",
              "    border-color: transparent;\n",
              "    border-bottom-color: var(--fill-color);\n",
              "    animation:\n",
              "      spin 1s steps(1) infinite;\n",
              "  }\n",
              "\n",
              "  @keyframes spin {\n",
              "    0% {\n",
              "      border-color: transparent;\n",
              "      border-bottom-color: var(--fill-color);\n",
              "      border-left-color: var(--fill-color);\n",
              "    }\n",
              "    20% {\n",
              "      border-color: transparent;\n",
              "      border-left-color: var(--fill-color);\n",
              "      border-top-color: var(--fill-color);\n",
              "    }\n",
              "    30% {\n",
              "      border-color: transparent;\n",
              "      border-left-color: var(--fill-color);\n",
              "      border-top-color: var(--fill-color);\n",
              "      border-right-color: var(--fill-color);\n",
              "    }\n",
              "    40% {\n",
              "      border-color: transparent;\n",
              "      border-right-color: var(--fill-color);\n",
              "      border-top-color: var(--fill-color);\n",
              "    }\n",
              "    60% {\n",
              "      border-color: transparent;\n",
              "      border-right-color: var(--fill-color);\n",
              "    }\n",
              "    80% {\n",
              "      border-color: transparent;\n",
              "      border-right-color: var(--fill-color);\n",
              "      border-bottom-color: var(--fill-color);\n",
              "    }\n",
              "    90% {\n",
              "      border-color: transparent;\n",
              "      border-bottom-color: var(--fill-color);\n",
              "    }\n",
              "  }\n",
              "</style>\n",
              "\n",
              "  <script>\n",
              "    async function quickchart(key) {\n",
              "      const quickchartButtonEl =\n",
              "        document.querySelector('#' + key + ' button');\n",
              "      quickchartButtonEl.disabled = true;  // To prevent multiple clicks.\n",
              "      quickchartButtonEl.classList.add('colab-df-spinner');\n",
              "      try {\n",
              "        const charts = await google.colab.kernel.invokeFunction(\n",
              "            'suggestCharts', [key], {});\n",
              "      } catch (error) {\n",
              "        console.error('Error during call to suggestCharts:', error);\n",
              "      }\n",
              "      quickchartButtonEl.classList.remove('colab-df-spinner');\n",
              "      quickchartButtonEl.classList.add('colab-df-quickchart-complete');\n",
              "    }\n",
              "    (() => {\n",
              "      let quickchartButtonEl =\n",
              "        document.querySelector('#df-4a2d39b6-03a2-4055-85a5-c267a6ab6444 button');\n",
              "      quickchartButtonEl.style.display =\n",
              "        google.colab.kernel.accessAllowed ? 'block' : 'none';\n",
              "    })();\n",
              "  </script>\n",
              "</div>\n",
              "\n",
              "  <div id=\"id_f5c4f0b9-8026-459c-94dd-fc259c4dcfab\">\n",
              "    <style>\n",
              "      .colab-df-generate {\n",
              "        background-color: #E8F0FE;\n",
              "        border: none;\n",
              "        border-radius: 50%;\n",
              "        cursor: pointer;\n",
              "        display: none;\n",
              "        fill: #1967D2;\n",
              "        height: 32px;\n",
              "        padding: 0 0 0 0;\n",
              "        width: 32px;\n",
              "      }\n",
              "\n",
              "      .colab-df-generate:hover {\n",
              "        background-color: #E2EBFA;\n",
              "        box-shadow: 0px 1px 2px rgba(60, 64, 67, 0.3), 0px 1px 3px 1px rgba(60, 64, 67, 0.15);\n",
              "        fill: #174EA6;\n",
              "      }\n",
              "\n",
              "      [theme=dark] .colab-df-generate {\n",
              "        background-color: #3B4455;\n",
              "        fill: #D2E3FC;\n",
              "      }\n",
              "\n",
              "      [theme=dark] .colab-df-generate:hover {\n",
              "        background-color: #434B5C;\n",
              "        box-shadow: 0px 1px 3px 1px rgba(0, 0, 0, 0.15);\n",
              "        filter: drop-shadow(0px 1px 2px rgba(0, 0, 0, 0.3));\n",
              "        fill: #FFFFFF;\n",
              "      }\n",
              "    </style>\n",
              "    <button class=\"colab-df-generate\" onclick=\"generateWithVariable('df_marcas')\"\n",
              "            title=\"Generate code using this dataframe.\"\n",
              "            style=\"display:none;\">\n",
              "\n",
              "  <svg xmlns=\"http://www.w3.org/2000/svg\" height=\"24px\"viewBox=\"0 0 24 24\"\n",
              "       width=\"24px\">\n",
              "    <path d=\"M7,19H8.4L18.45,9,17,7.55,7,17.6ZM5,21V16.75L18.45,3.32a2,2,0,0,1,2.83,0l1.4,1.43a1.91,1.91,0,0,1,.58,1.4,1.91,1.91,0,0,1-.58,1.4L9.25,21ZM18.45,9,17,7.55Zm-12,3A5.31,5.31,0,0,0,4.9,8.1,5.31,5.31,0,0,0,1,6.5,5.31,5.31,0,0,0,4.9,4.9,5.31,5.31,0,0,0,6.5,1,5.31,5.31,0,0,0,8.1,4.9,5.31,5.31,0,0,0,12,6.5,5.46,5.46,0,0,0,6.5,12Z\"/>\n",
              "  </svg>\n",
              "    </button>\n",
              "    <script>\n",
              "      (() => {\n",
              "      const buttonEl =\n",
              "        document.querySelector('#id_f5c4f0b9-8026-459c-94dd-fc259c4dcfab button.colab-df-generate');\n",
              "      buttonEl.style.display =\n",
              "        google.colab.kernel.accessAllowed ? 'block' : 'none';\n",
              "\n",
              "      buttonEl.onclick = () => {\n",
              "        google.colab.notebook.generateWithVariable('df_marcas');\n",
              "      }\n",
              "      })();\n",
              "    </script>\n",
              "  </div>\n",
              "\n",
              "    </div>\n",
              "  </div>\n"
            ],
            "application/vnd.google.colaboratory.intrinsic+json": {
              "type": "dataframe",
              "variable_name": "df_marcas",
              "summary": "{\n  \"name\": \"df_marcas\",\n  \"rows\": 7,\n  \"fields\": [\n    {\n      \"column\": \"marca\",\n      \"properties\": {\n        \"dtype\": \"string\",\n        \"num_unique_values\": 7,\n        \"samples\": [\n          \"Kopenhagem\",\n          \"Lindit\",\n          \"Lacta\"\n        ],\n        \"semantic_type\": \"\",\n        \"description\": \"\"\n      }\n    },\n    {\n      \"column\": \"gasto_publicidade\",\n      \"properties\": {\n        \"dtype\": \"number\",\n        \"std\": 40.51264940613934,\n        \"min\": 11.6,\n        \"max\": 131.3,\n        \"num_unique_values\": 7,\n        \"samples\": [\n          131.3,\n          92.4,\n          29.0\n        ],\n        \"semantic_type\": \"\",\n        \"description\": \"\"\n      }\n    },\n    {\n      \"column\": \"vendas\",\n      \"properties\": {\n        \"dtype\": \"number\",\n        \"std\": 597.4292729608052,\n        \"min\": 219.5,\n        \"max\": 1929.2,\n        \"num_unique_values\": 7,\n        \"samples\": [\n          1929.2,\n          1384.6,\n          535.6\n        ],\n        \"semantic_type\": \"\",\n        \"description\": \"\"\n      }\n    }\n  ]\n}"
            }
          },
          "metadata": {},
          "execution_count": 2
        }
      ]
    },
    {
      "cell_type": "code",
      "source": [
        "import matplotlib.pyplot as plt\n",
        "import seaborn as sns\n",
        "\n",
        "fig, axes = plt.subplots(nrows=1, ncols=1, sharex=True, sharey=True, figsize=(8,6))\n",
        "sns.scatterplot(x=df_marcas.gasto_publicidade, y=df_marcas.vendas, color='DarkBlue', s=100);\n",
        "\n",
        "axes.set_title('Vendas x Publicidade', fontsize=18)\n",
        "axes.set_xlabel('')\n",
        "axes.set_ylabel('')\n",
        "\n",
        "fig.supxlabel('Publicidade em milhões U$', fontsize=10)\n",
        "fig.supylabel('Vendas em milhões U$', fontsize=10);"
      ],
      "metadata": {
        "colab": {
          "base_uri": "https://localhost:8080/",
          "height": 586
        },
        "id": "WOqVTEPf0rOp",
        "outputId": "3e42b2b1-fb7c-4e7c-b5cf-7ba5d481c53b"
      },
      "execution_count": null,
      "outputs": [
        {
          "output_type": "display_data",
          "data": {
            "text/plain": [
              "<Figure size 800x600 with 1 Axes>"
            ],
            "image/png": "[encoded data removed]"
          },
          "metadata": {}
        }
      ]
    },
    {
      "cell_type": "markdown",
      "source": [
        "No gráfico, é possível observar a relação entre vendas e o gasto com publicidade de cada marca de chocolate. A regressão linear identifica a linha reta que melhor se ajusta aos pontos, minimizando a distância entre a linha e os pontos de dados (o erro).\n",
        "\n",
        "* Linha: previsão (linha de regressão, que representa a relação entre as variáveis).\n",
        "* Distância: erro (a distância entre a linha de regressão e os pontos de dados)."
      ],
      "metadata": {
        "id": "cDAiWgCq1jb6"
      }
    },
    {
      "cell_type": "markdown",
      "source": [
        "# **Modelo de Regressão Linear Simples**"
      ],
      "metadata": {
        "id": "JyMjYztlCFqQ"
      }
    },
    {
      "cell_type": "markdown",
      "source": [
        "Para encontrarmos a nossa **Regressão Linear** será necessário:\n",
        "\n",
        "\n",
        "\n",
        "1.   Escolher x (variável independente) e y (variável resposta)\n",
        "2.   Identificar o Intercepto\n",
        "3.   Identificar o Coeficiente\n",
        "4.   Identificar a predição de y (y_pred)\n",
        "\n",
        "\n",
        "\n"
      ],
      "metadata": {
        "id": "39Xj5jLc44CB"
      }
    },
    {
      "cell_type": "code",
      "source": [
        "# 1.   Escolher x (variável independente) e y (variável resposta)\n",
        "\n",
        "X = df_marcas.filter(['gasto_publicidade']).copy()\n",
        "y = df_marcas['vendas'].copy()"
      ],
      "metadata": {
        "id": "afXUcmvg2iSD"
      },
      "execution_count": null,
      "outputs": []
    },
    {
      "cell_type": "markdown",
      "source": [
        "Aqui, X é a variável independente (gasto com publicidade), e y é a variável dependente (vendas). O modelo tentará prever y com base em X."
      ],
      "metadata": {
        "id": "rhsoX2n485q9"
      }
    },
    {
      "cell_type": "code",
      "source": [
        "# 2.   Identificar o Intercepto\n",
        "\n",
        "from sklearn.linear_model import LinearRegression\n",
        "\n",
        "lr = LinearRegression()\n",
        "lr.fit(X, y)\n",
        "\n",
        "lr.intercept_"
      ],
      "metadata": {
        "colab": {
          "base_uri": "https://localhost:8080/"
        },
        "id": "LRzn4cVZ2iOw",
        "outputId": "032ccc78-6f86-4be3-bcc2-ee731b34450c"
      },
      "execution_count": null,
      "outputs": [
        {
          "output_type": "execute_result",
          "data": {
            "text/plain": [
              "-15.420436321709303"
            ]
          },
          "metadata": {},
          "execution_count": 16
        }
      ]
    },
    {
      "cell_type": "markdown",
      "source": [
        "O intercepto é o valor de y quando x = 0. Ou seja, a previsão de vendas quando não há nenhum gasto com publicidade será de U$ 15,42."
      ],
      "metadata": {
        "id": "pIIND04F9A92"
      }
    },
    {
      "cell_type": "code",
      "source": [
        "# 3.   Identificar o Coeficiente\n",
        "\n",
        "lr.coef_"
      ],
      "metadata": {
        "colab": {
          "base_uri": "https://localhost:8080/"
        },
        "id": "j8gDVwEr2iML",
        "outputId": "7bf39750-c66e-49b3-ffe7-aa337c5b0b82"
      },
      "execution_count": null,
      "outputs": [
        {
          "output_type": "execute_result",
          "data": {
            "text/plain": [
              "array([14.42378282])"
            ]
          },
          "metadata": {},
          "execution_count": 17
        }
      ]
    },
    {
      "cell_type": "markdown",
      "source": [
        "O coeficiente indica quanto a variável y (vendas) muda quando há um aumento unitário em x (gasto com publicidade).\n",
        "Ou seja, a cada US 1 gasto com publicidade, aumentará em U$ 14,42 as vendas."
      ],
      "metadata": {
        "id": "_NSjf9jt9WS0"
      }
    },
    {
      "cell_type": "code",
      "source": [
        "# 4.   Identificar a predição de y (y_pred)\n",
        "\n",
        "y_pred = lr.predict(X)\n",
        "y_pred"
      ],
      "metadata": {
        "colab": {
          "base_uri": "https://localhost:8080/"
        },
        "id": "Q2nU0UiM2iJs",
        "outputId": "b2fa1ae2-9a95-4001-e2cd-deb3c17d5688"
      },
      "execution_count": null,
      "outputs": [
        {
          "output_type": "execute_result",
          "data": {
            "text/plain": [
              "array([1878.42224799, 1317.33709628,  855.77604603,  787.98426677,\n",
              "        564.41563306,  402.86926547,  151.89544439])"
            ]
          },
          "metadata": {},
          "execution_count": 18
        }
      ]
    },
    {
      "cell_type": "markdown",
      "source": [
        "y_pred são os valores preditos de y (vendas) com base no modelo de regressão linear. O modelo gera uma previsão de vendas para cada valor de gasto com publicidade."
      ],
      "metadata": {
        "id": "VN5Ec6Yh-VT7"
      }
    },
    {
      "cell_type": "code",
      "source": [
        "import matplotlib.pyplot as plt\n",
        "import seaborn as sns\n",
        "\n",
        "fig, axes = plt.subplots(nrows=1, ncols=2, sharex=True, sharey=False, figsize=(14, 6))\n",
        "\n",
        "sns.scatterplot(x=df_marcas.gasto_publicidade, y=df_marcas.vendas, ax=axes[0], color='DarkBlue', s=100);\n",
        "sns.lineplot(x=df_marcas.gasto_publicidade, y=df_marcas.vendas.mean(), ax=axes[0], linestyle='--', color='red')\n",
        "\n",
        "ssr_avg = sum((df_marcas.vendas.mean() - y) ** 2)\n",
        "axes[0].set_title(f'Média de Vendas \\n SSR: {ssr_avg:.2f}', fontsize=14)\n",
        "axes[0].set_xlabel('')\n",
        "axes[0].set_ylabel('')\n",
        "\n",
        "\n",
        "sns.scatterplot(x=df_marcas.gasto_publicidade, y=df_marcas.vendas, ax=axes[1], color='DarkBlue', s=100);\n",
        "sns.lineplot(x=df_marcas.gasto_publicidade, y=y_pred, ax=axes[1], linestyle='--', color='red')\n",
        "\n",
        "ssr_model = sum((y - y_pred) ** 2)\n",
        "axes[1].set_title(f'Modelo Regressão Linear \\n SSR: {ssr_model:.2f}', fontsize=14)\n",
        "axes[1].set_xlabel('')\n",
        "axes[1].set_ylabel('')\n",
        "\n",
        "\n",
        "fig.supxlabel('Publicidade em milhões U$', fontsize=10)\n",
        "fig.supylabel('Vendas em milhões U$', fontsize=10);"
      ],
      "metadata": {
        "colab": {
          "base_uri": "https://localhost:8080/",
          "height": 604
        },
        "id": "F1vSra0B2h-3",
        "outputId": "2b2317c1-119c-45b2-b7c3-2a67808dc8ae"
      },
      "execution_count": null,
      "outputs": [
        {
          "output_type": "display_data",
          "data": {
            "text/plain": [
              "<Figure size 1400x600 with 2 Axes>"
            ],
            "image/png": "[encoded data removed]"
          },
          "metadata": {}
        }
      ]
    },
    {
      "cell_type": "markdown",
      "source": [
        "O gráfico (1) mostra a relação entre gasto com publicidade e vendas de cada marca com o destaque da linha em vermelho indicando a média das vendas sem considerar a previsão. O SSR de 2.141.530,42 mostra a distorção entre o modelo de média e os dados reais.\n",
        "\n",
        "O gráfico (2) novamente mostra a relação entre gasto com publicidade e vendas mas dessa vez o destaque da linha em vermelho apresenta modelo ajustado de vendas, com base na regressão linear. A redução desse erro SSR para 92.771,34 indica que o modelo de regressão é mais preciso do que o modelo baseado na média."
      ],
      "metadata": {
        "id": "JeTrTdY4_IK3"
      }
    },
    {
      "cell_type": "markdown",
      "source": [
        "**CONCEITO IMPORTANTE**\n",
        "\n",
        "SSR ou Sum of Square Residuals também conhecido como Soma dos Quadrados dos Resíduos, é uma medida estatística que quantifica o erro de um modelo de regressão.\n",
        "\n",
        "Em termos simples, o SSR mede o quão bem o modelo se ajusta aos dados, indicando a quantidade de erro que o modelo comete. Portanto, quanto menor, mais bem ajustado será o modelo de Regressão Linear."
      ],
      "metadata": {
        "id": "lFkyiFr5Al2W"
      }
    },
    {
      "cell_type": "markdown",
      "source": [
        "# **Aplicando Modelo**"
      ],
      "metadata": {
        "id": "jxPHiE7gB-sc"
      }
    },
    {
      "cell_type": "markdown",
      "source": [
        "Para aplicarmos o Modelo de Regressão Linear Simples contruído anteriormente precisamos:\n",
        "\n",
        "1.  Criar novo banco de dados\n",
        "2.  Predição de vendas utilizando modelo\n",
        "3.  Criar função de previsão\n",
        "4.  Chamar função para prever as vendas\n",
        "5.  Cálculo do Coeficiente (R2)"
      ],
      "metadata": {
        "id": "tz2683IgCPBg"
      }
    },
    {
      "cell_type": "code",
      "source": [
        "# 1.  Criar novo banco de dados\n",
        "\n",
        "df_marcas_prod = pd.DataFrame(\n",
        "    {\n",
        "        'marca': ['Cacau Show SP', 'Cacau Show RJ'],\n",
        "        'gasto_publicidade': [20, 30],\n",
        "    }\n",
        ")\n",
        "\n",
        "df_marcas_prod"
      ],
      "metadata": {
        "colab": {
          "base_uri": "https://localhost:8080/",
          "height": 125
        },
        "id": "2e1kX1mgCo5i",
        "outputId": "91f5db36-d88f-4f63-bf3e-b6dd7f0b5119"
      },
      "execution_count": null,
      "outputs": [
        {
          "output_type": "execute_result",
          "data": {
            "text/plain": [
              "           marca  gasto_publicidade\n",
              "0  Cacau Show SP                 20\n",
              "1  Cacau Show RJ                 30"
            ],
            "text/html": [
              "\n",
              "  <div id=\"df-d2d4152e-8998-4671-8ef6-962ed855a129\" class=\"colab-df-container\">\n",
              "    <div>\n",
              "<style scoped>\n",
              "    .dataframe tbody tr th:only-of-type {\n",
              "        vertical-align: middle;\n",
              "    }\n",
              "\n",
              "    .dataframe tbody tr th {\n",
              "        vertical-align: top;\n",
              "    }\n",
              "\n",
              "    .dataframe thead th {\n",
              "        text-align: right;\n",
              "    }\n",
              "</style>\n",
              "<table border=\"1\" class=\"dataframe\">\n",
              "  <thead>\n",
              "    <tr style=\"text-align: right;\">\n",
              "      <th></th>\n",
              "      <th>marca</th>\n",
              "      <th>gasto_publicidade</th>\n",
              "    </tr>\n",
              "  </thead>\n",
              "  <tbody>\n",
              "    <tr>\n",
              "      <th>0</th>\n",
              "      <td>Cacau Show SP</td>\n",
              "      <td>20</td>\n",
              "    </tr>\n",
              "    <tr>\n",
              "      <th>1</th>\n",
              "      <td>Cacau Show RJ</td>\n",
              "      <td>30</td>\n",
              "    </tr>\n",
              "  </tbody>\n",
              "</table>\n",
              "</div>\n",
              "    <div class=\"colab-df-buttons\">\n",
              "\n",
              "  <div class=\"colab-df-container\">\n",
              "    <button class=\"colab-df-convert\" onclick=\"convertToInteractive('df-d2d4152e-8998-4671-8ef6-962ed855a129')\"\n",
              "            title=\"Convert this dataframe to an interactive table.\"\n",
              "            style=\"display:none;\">\n",
              "\n",
              "  <svg xmlns=\"http://www.w3.org/2000/svg\" height=\"24px\" viewBox=\"0 -960 960 960\">\n",
              "    <path d=\"M120-120v-720h720v720H120Zm60-500h600v-160H180v160Zm220 220h160v-160H400v160Zm0 220h160v-160H400v160ZM180-400h160v-160H180v160Zm440 0h160v-160H620v160ZM180-180h160v-160H180v160Zm440 0h160v-160H620v160Z\"/>\n",
              "  </svg>\n",
              "    </button>\n",
              "\n",
              "  <style>\n",
              "    .colab-df-container {\n",
              "      display:flex;\n",
              "      gap: 12px;\n",
              "    }\n",
              "\n",
              "    .colab-df-convert {\n",
              "      background-color: #E8F0FE;\n",
              "      border: none;\n",
              "      border-radius: 50%;\n",
              "      cursor: pointer;\n",
              "      display: none;\n",
              "      fill: #1967D2;\n",
              "      height: 32px;\n",
              "      padding: 0 0 0 0;\n",
              "      width: 32px;\n",
              "    }\n",
              "\n",
              "    .colab-df-convert:hover {\n",
              "      background-color: #E2EBFA;\n",
              "      box-shadow: 0px 1px 2px rgba(60, 64, 67, 0.3), 0px 1px 3px 1px rgba(60, 64, 67, 0.15);\n",
              "      fill: #174EA6;\n",
              "    }\n",
              "\n",
              "    .colab-df-buttons div {\n",
              "      margin-bottom: 4px;\n",
              "    }\n",
              "\n",
              "    [theme=dark] .colab-df-convert {\n",
              "      background-color: #3B4455;\n",
              "      fill: #D2E3FC;\n",
              "    }\n",
              "\n",
              "    [theme=dark] .colab-df-convert:hover {\n",
              "      background-color: #434B5C;\n",
              "      box-shadow: 0px 1px 3px 1px rgba(0, 0, 0, 0.15);\n",
              "      filter: drop-shadow(0px 1px 2px rgba(0, 0, 0, 0.3));\n",
              "      fill: #FFFFFF;\n",
              "    }\n",
              "  </style>\n",
              "\n",
              "    <script>\n",
              "      const buttonEl =\n",
              "        document.querySelector('#df-d2d4152e-8998-4671-8ef6-962ed855a129 button.colab-df-convert');\n",
              "      buttonEl.style.display =\n",
              "        google.colab.kernel.accessAllowed ? 'block' : 'none';\n",
              "\n",
              "      async function convertToInteractive(key) {\n",
              "        const element = document.querySelector('#df-d2d4152e-8998-4671-8ef6-962ed855a129');\n",
              "        const dataTable =\n",
              "          await google.colab.kernel.invokeFunction('convertToInteractive',\n",
              "                                                    [key], {});\n",
              "        if (!dataTable) return;\n",
              "\n",
              "        const docLinkHtml = 'Like what you see? Visit the ' +\n",
              "          '<a target=\"_blank\" href=https://colab.research.google.com/notebooks/data_table.ipynb>data table notebook</a>'\n",
              "          + ' to learn more about interactive tables.';\n",
              "        element.innerHTML = '';\n",
              "        dataTable['output_type'] = 'display_data';\n",
              "        await google.colab.output.renderOutput(dataTable, element);\n",
              "        const docLink = document.createElement('div');\n",
              "        docLink.innerHTML = docLinkHtml;\n",
              "        element.appendChild(docLink);\n",
              "      }\n",
              "    </script>\n",
              "  </div>\n",
              "\n",
              "\n",
              "<div id=\"df-9b426db0-66b5-4992-8072-da89f6dab940\">\n",
              "  <button class=\"colab-df-quickchart\" onclick=\"quickchart('df-9b426db0-66b5-4992-8072-da89f6dab940')\"\n",
              "            title=\"Suggest charts\"\n",
              "            style=\"display:none;\">\n",
              "\n",
              "<svg xmlns=\"http://www.w3.org/2000/svg\" height=\"24px\"viewBox=\"0 0 24 24\"\n",
              "     width=\"24px\">\n",
              "    <g>\n",
              "        <path d=\"M19 3H5c-1.1 0-2 .9-2 2v14c0 1.1.9 2 2 2h14c1.1 0 2-.9 2-2V5c0-1.1-.9-2-2-2zM9 17H7v-7h2v7zm4 0h-2V7h2v10zm4 0h-2v-4h2v4z\"/>\n",
              "    </g>\n",
              "</svg>\n",
              "  </button>\n",
              "\n",
              "<style>\n",
              "  .colab-df-quickchart {\n",
              "      --bg-color: #E8F0FE;\n",
              "      --fill-color: #1967D2;\n",
              "      --hover-bg-color: #E2EBFA;\n",
              "      --hover-fill-color: #174EA6;\n",
              "      --disabled-fill-color: #AAA;\n",
              "      --disabled-bg-color: #DDD;\n",
              "  }\n",
              "\n",
              "  [theme=dark] .colab-df-quickchart {\n",
              "      --bg-color: #3B4455;\n",
              "      --fill-color: #D2E3FC;\n",
              "      --hover-bg-color: #434B5C;\n",
              "      --hover-fill-color: #FFFFFF;\n",
              "      --disabled-bg-color: #3B4455;\n",
              "      --disabled-fill-color: #666;\n",
              "  }\n",
              "\n",
              "  .colab-df-quickchart {\n",
              "    background-color: var(--bg-color);\n",
              "    border: none;\n",
              "    border-radius: 50%;\n",
              "    cursor: pointer;\n",
              "    display: none;\n",
              "    fill: var(--fill-color);\n",
              "    height: 32px;\n",
              "    padding: 0;\n",
              "    width: 32px;\n",
              "  }\n",
              "\n",
              "  .colab-df-quickchart:hover {\n",
              "    background-color: var(--hover-bg-color);\n",
              "    box-shadow: 0 1px 2px rgba(60, 64, 67, 0.3), 0 1px 3px 1px rgba(60, 64, 67, 0.15);\n",
              "    fill: var(--button-hover-fill-color);\n",
              "  }\n",
              "\n",
              "  .colab-df-quickchart-complete:disabled,\n",
              "  .colab-df-quickchart-complete:disabled:hover {\n",
              "    background-color: var(--disabled-bg-color);\n",
              "    fill: var(--disabled-fill-color);\n",
              "    box-shadow: none;\n",
              "  }\n",
              "\n",
              "  .colab-df-spinner {\n",
              "    border: 2px solid var(--fill-color);\n",
              "    border-color: transparent;\n",
              "    border-bottom-color: var(--fill-color);\n",
              "    animation:\n",
              "      spin 1s steps(1) infinite;\n",
              "  }\n",
              "\n",
              "  @keyframes spin {\n",
              "    0% {\n",
              "      border-color: transparent;\n",
              "      border-bottom-color: var(--fill-color);\n",
              "      border-left-color: var(--fill-color);\n",
              "    }\n",
              "    20% {\n",
              "      border-color: transparent;\n",
              "      border-left-color: var(--fill-color);\n",
              "      border-top-color: var(--fill-color);\n",
              "    }\n",
              "    30% {\n",
              "      border-color: transparent;\n",
              "      border-left-color: var(--fill-color);\n",
              "      border-top-color: var(--fill-color);\n",
              "      border-right-color: var(--fill-color);\n",
              "    }\n",
              "    40% {\n",
              "      border-color: transparent;\n",
              "      border-right-color: var(--fill-color);\n",
              "      border-top-color: var(--fill-color);\n",
              "    }\n",
              "    60% {\n",
              "      border-color: transparent;\n",
              "      border-right-color: var(--fill-color);\n",
              "    }\n",
              "    80% {\n",
              "      border-color: transparent;\n",
              "      border-right-color: var(--fill-color);\n",
              "      border-bottom-color: var(--fill-color);\n",
              "    }\n",
              "    90% {\n",
              "      border-color: transparent;\n",
              "      border-bottom-color: var(--fill-color);\n",
              "    }\n",
              "  }\n",
              "</style>\n",
              "\n",
              "  <script>\n",
              "    async function quickchart(key) {\n",
              "      const quickchartButtonEl =\n",
              "        document.querySelector('#' + key + ' button');\n",
              "      quickchartButtonEl.disabled = true;  // To prevent multiple clicks.\n",
              "      quickchartButtonEl.classList.add('colab-df-spinner');\n",
              "      try {\n",
              "        const charts = await google.colab.kernel.invokeFunction(\n",
              "            'suggestCharts', [key], {});\n",
              "      } catch (error) {\n",
              "        console.error('Error during call to suggestCharts:', error);\n",
              "      }\n",
              "      quickchartButtonEl.classList.remove('colab-df-spinner');\n",
              "      quickchartButtonEl.classList.add('colab-df-quickchart-complete');\n",
              "    }\n",
              "    (() => {\n",
              "      let quickchartButtonEl =\n",
              "        document.querySelector('#df-9b426db0-66b5-4992-8072-da89f6dab940 button');\n",
              "      quickchartButtonEl.style.display =\n",
              "        google.colab.kernel.accessAllowed ? 'block' : 'none';\n",
              "    })();\n",
              "  </script>\n",
              "</div>\n",
              "\n",
              "  <div id=\"id_a9c41679-2a87-4a47-b6bf-29a8d0df399a\">\n",
              "    <style>\n",
              "      .colab-df-generate {\n",
              "        background-color: #E8F0FE;\n",
              "        border: none;\n",
              "        border-radius: 50%;\n",
              "        cursor: pointer;\n",
              "        display: none;\n",
              "        fill: #1967D2;\n",
              "        height: 32px;\n",
              "        padding: 0 0 0 0;\n",
              "        width: 32px;\n",
              "      }\n",
              "\n",
              "      .colab-df-generate:hover {\n",
              "        background-color: #E2EBFA;\n",
              "        box-shadow: 0px 1px 2px rgba(60, 64, 67, 0.3), 0px 1px 3px 1px rgba(60, 64, 67, 0.15);\n",
              "        fill: #174EA6;\n",
              "      }\n",
              "\n",
              "      [theme=dark] .colab-df-generate {\n",
              "        background-color: #3B4455;\n",
              "        fill: #D2E3FC;\n",
              "      }\n",
              "\n",
              "      [theme=dark] .colab-df-generate:hover {\n",
              "        background-color: #434B5C;\n",
              "        box-shadow: 0px 1px 3px 1px rgba(0, 0, 0, 0.15);\n",
              "        filter: drop-shadow(0px 1px 2px rgba(0, 0, 0, 0.3));\n",
              "        fill: #FFFFFF;\n",
              "      }\n",
              "    </style>\n",
              "    <button class=\"colab-df-generate\" onclick=\"generateWithVariable('df_marcas_prod')\"\n",
              "            title=\"Generate code using this dataframe.\"\n",
              "            style=\"display:none;\">\n",
              "\n",
              "  <svg xmlns=\"http://www.w3.org/2000/svg\" height=\"24px\"viewBox=\"0 0 24 24\"\n",
              "       width=\"24px\">\n",
              "    <path d=\"M7,19H8.4L18.45,9,17,7.55,7,17.6ZM5,21V16.75L18.45,3.32a2,2,0,0,1,2.83,0l1.4,1.43a1.91,1.91,0,0,1,.58,1.4,1.91,1.91,0,0,1-.58,1.4L9.25,21ZM18.45,9,17,7.55Zm-12,3A5.31,5.31,0,0,0,4.9,8.1,5.31,5.31,0,0,0,1,6.5,5.31,5.31,0,0,0,4.9,4.9,5.31,5.31,0,0,0,6.5,1,5.31,5.31,0,0,0,8.1,4.9,5.31,5.31,0,0,0,12,6.5,5.46,5.46,0,0,0,6.5,12Z\"/>\n",
              "  </svg>\n",
              "    </button>\n",
              "    <script>\n",
              "      (() => {\n",
              "      const buttonEl =\n",
              "        document.querySelector('#id_a9c41679-2a87-4a47-b6bf-29a8d0df399a button.colab-df-generate');\n",
              "      buttonEl.style.display =\n",
              "        google.colab.kernel.accessAllowed ? 'block' : 'none';\n",
              "\n",
              "      buttonEl.onclick = () => {\n",
              "        google.colab.notebook.generateWithVariable('df_marcas_prod');\n",
              "      }\n",
              "      })();\n",
              "    </script>\n",
              "  </div>\n",
              "\n",
              "    </div>\n",
              "  </div>\n"
            ],
            "application/vnd.google.colaboratory.intrinsic+json": {
              "type": "dataframe",
              "variable_name": "df_marcas_prod",
              "summary": "{\n  \"name\": \"df_marcas_prod\",\n  \"rows\": 2,\n  \"fields\": [\n    {\n      \"column\": \"marca\",\n      \"properties\": {\n        \"dtype\": \"string\",\n        \"num_unique_values\": 2,\n        \"samples\": [\n          \"Cacau Show RJ\",\n          \"Cacau Show SP\"\n        ],\n        \"semantic_type\": \"\",\n        \"description\": \"\"\n      }\n    },\n    {\n      \"column\": \"gasto_publicidade\",\n      \"properties\": {\n        \"dtype\": \"number\",\n        \"std\": 7,\n        \"min\": 20,\n        \"max\": 30,\n        \"num_unique_values\": 2,\n        \"samples\": [\n          30,\n          20\n        ],\n        \"semantic_type\": \"\",\n        \"description\": \"\"\n      }\n    }\n  ]\n}"
            }
          },
          "metadata": {},
          "execution_count": 25
        }
      ]
    },
    {
      "cell_type": "markdown",
      "source": [
        "Com esses dados podemos fazer previsões de vendas com base nos valores de gasto com publicidade."
      ],
      "metadata": {
        "id": "xIuXnCyFDDPm"
      }
    },
    {
      "cell_type": "code",
      "source": [
        "# 2.  Predição de vendas utilizando modelo\n",
        "\n",
        "print(lr.predict(df_marcas_prod[['gasto_publicidade']]))"
      ],
      "metadata": {
        "colab": {
          "base_uri": "https://localhost:8080/"
        },
        "id": "TNqaLtJ9Dzlp",
        "outputId": "af32c4c1-57ed-4954-e420-8798c7a39acc"
      },
      "execution_count": null,
      "outputs": [
        {
          "output_type": "stream",
          "name": "stdout",
          "text": [
            "[273.05522009 417.29304829]\n"
          ]
        }
      ]
    },
    {
      "cell_type": "markdown",
      "source": [
        "O predict recebe como entrada o banco de dados criado com a coluna 'gasto_publicidade' e retorna as vendas preditas para esses valores de publicidade."
      ],
      "metadata": {
        "id": "LKw6BRTAD7kB"
      }
    },
    {
      "cell_type": "code",
      "source": [
        "# 3.  Criar função de previsão\n",
        "\n",
        "def func_total_vendas(b0, b1, x1):\n",
        "    return round(b0 + (b1 * x1), 4)"
      ],
      "metadata": {
        "id": "apNzwaVkD7VQ"
      },
      "execution_count": null,
      "outputs": []
    },
    {
      "cell_type": "markdown",
      "source": [
        "Esta função recebe três parâmetros:\n",
        "\n",
        "* b0 (intercepto da regressão linear)\n",
        "* b1 (coeficiente da regressão linear, relacionado ao impacto do gasto com publicidade nas vendas)\n",
        "* x1 (valor de gasto com publicidade para o qual queremos prever as vendas).\n",
        "\n",
        "A função calcula a previsão de vendas usando a fórmula da equação da reta da regressão linear:\n",
        "\n",
        "𝑦\n",
        "=\n",
        "𝑏\n",
        "0\n",
        "+\n",
        "(\n",
        "𝑏\n",
        "1\n",
        "×\n",
        "𝑥\n",
        "1\n",
        ")"
      ],
      "metadata": {
        "id": "6qe3QSvQD7DE"
      }
    },
    {
      "cell_type": "code",
      "source": [
        "# 4.  Chamar função para prever as vendas\n",
        "\n",
        "func_total_vendas(\n",
        "    b0=lr.intercept_,\n",
        "    b1=lr.coef_[0],\n",
        "    x1=20\n",
        ")"
      ],
      "metadata": {
        "colab": {
          "base_uri": "https://localhost:8080/"
        },
        "id": "wEZSOEDjD6yI",
        "outputId": "fb05f0a4-6bba-4769-998d-b1ca82c6b2f0"
      },
      "execution_count": null,
      "outputs": [
        {
          "output_type": "execute_result",
          "data": {
            "text/plain": [
              "273.0552"
            ]
          },
          "metadata": {},
          "execution_count": 28
        }
      ]
    },
    {
      "cell_type": "markdown",
      "source": [
        "A função func_total_vendas é chamada passando o intercepto (lr.intercept_), o coeficiente (lr.coef_[0]), e o valor de gasto com publicidade (x1=20 milhões de dólares) para a marca Guarana Light. Isso retorna a previsão de vendas para esse valor de gasto com publicidade."
      ],
      "metadata": {
        "id": "Mtk1SUeOD6hH"
      }
    },
    {
      "cell_type": "code",
      "source": [
        "# 5.  Cálculo do Coeficiente (R2)\n",
        "\n",
        "from sklearn.metrics import r2_score\n",
        "\n",
        "r2_score(y, y_pred)"
      ],
      "metadata": {
        "colab": {
          "base_uri": "https://localhost:8080/"
        },
        "id": "zeGYis5iD6P0",
        "outputId": "b043d32e-bc3a-4eb0-a94c-0ea792550ce1"
      },
      "execution_count": null,
      "outputs": [
        {
          "output_type": "execute_result",
          "data": {
            "text/plain": [
              "0.9566798871073536"
            ]
          },
          "metadata": {},
          "execution_count": 29
        }
      ]
    },
    {
      "cell_type": "markdown",
      "source": [
        "y representa os valores reais de vendas e y_pred são as previsões feitas pelo modelo de regressão linear. A função r2_score compara os dois e calcula o valor de R², que indica a qualidade do modelo de regressão é de 0,9567, ou seja é excelente."
      ],
      "metadata": {
        "id": "V-75J6NcD5q4"
      }
    },
    {
      "cell_type": "markdown",
      "source": [
        "**CONCEITO IMPORTANTE**\n",
        "\n",
        "O r2_score é uma métrica que calcula o coeficiente de determinação (R²). Essa métrica mostra o quão bem o modelo de regressão linear se ajusta aos dados. O valor de R² varia entre 0 e 1:\n",
        "\n",
        "* 0 significa que o modelo não explica nenhuma variabilidade dos dados.\n",
        "* 1 significa que o modelo explica toda a variabilidade dos dados."
      ],
      "metadata": {
        "id": "54pMgz5RFwyp"
      }
    }
  ]
}